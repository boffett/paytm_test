{
  "nbformat": 4,
  "nbformat_minor": 0,
  "metadata": {
    "colab": {
      "provenance": [],
      "authorship_tag": "ABX9TyNkUzQdnkmoZIEhjJDrab5H",
      "include_colab_link": true
    },
    "kernelspec": {
      "name": "python3",
      "display_name": "Python 3"
    },
    "language_info": {
      "name": "python"
    }
  },
  "cells": [
    {
      "cell_type": "markdown",
      "metadata": {
        "id": "view-in-github",
        "colab_type": "text"
      },
      "source": [
        "<a href=\"https://colab.research.google.com/github/boffett/paytm_test/blob/main/PaytmTest.ipynb\" target=\"_parent\"><img src=\"https://colab.research.google.com/assets/colab-badge.svg\" alt=\"Open In Colab\"/></a>"
      ]
    },
    {
      "cell_type": "code",
      "source": [
        "!pip install pyspark"
      ],
      "metadata": {
        "colab": {
          "base_uri": "https://localhost:8080/"
        },
        "id": "UUgu2Yut3nAq",
        "outputId": "f22ad292-f8f8-4d0f-f937-56301e067cc4"
      },
      "execution_count": 20,
      "outputs": [
        {
          "output_type": "stream",
          "name": "stdout",
          "text": [
            "Requirement already satisfied: pyspark in /usr/local/lib/python3.10/dist-packages (3.5.1)\n",
            "Requirement already satisfied: py4j==0.10.9.7 in /usr/local/lib/python3.10/dist-packages (from pyspark) (0.10.9.7)\n"
          ]
        }
      ]
    },
    {
      "cell_type": "code",
      "source": [
        "from pyspark.sql import SparkSession, Window\n",
        "from pyspark.sql.functions import *\n",
        "from pyspark.mllib.recommendation import ALS"
      ],
      "metadata": {
        "id": "2AG7gJIQ-pf8"
      },
      "execution_count": 21,
      "outputs": []
    },
    {
      "cell_type": "markdown",
      "source": [
        "**First, read the data from the following files (movies.dat, ratings.dat) and reorganize/clean the data to be used in the model.**"
      ],
      "metadata": {
        "id": "r9xfJT0k0-8e"
      }
    },
    {
      "cell_type": "code",
      "source": [
        "path = \"/content/paytm_test/\"\n",
        "spark = SparkSession.builder.appName(\"PaytmTest\").getOrCreate()"
      ],
      "metadata": {
        "id": "6praYfHMDLcG"
      },
      "execution_count": 22,
      "outputs": []
    },
    {
      "cell_type": "code",
      "source": [
        "movie_df = spark.read.text(path + \"movies.dat\").select(\n",
        "    split(\"value\", \"::\").getItem(0).alias(\"MovieID\"),\n",
        "    split(\"value\", \"::\").getItem(1).alias(\"Title\"),\n",
        "    split(\"value\", \"::\").getItem(2).alias(\"Genres\")\n",
        ")\n",
        "movie_df = movie_df.dropna()\n",
        "#movie_df.cache()\n",
        "movie_df.show(3)\n",
        "movie_df.count()"
      ],
      "metadata": {
        "colab": {
          "base_uri": "https://localhost:8080/"
        },
        "id": "O6sZ-rd41ZBc",
        "outputId": "68af08eb-2467-43b9-fa17-334d6ef23efe"
      },
      "execution_count": 23,
      "outputs": [
        {
          "output_type": "stream",
          "name": "stdout",
          "text": [
            "+-------+--------------------+--------------------+\n",
            "|MovieID|               Title|              Genres|\n",
            "+-------+--------------------+--------------------+\n",
            "|      1|    Toy Story (1995)|Adventure|Animati...|\n",
            "|      2|      Jumanji (1995)|Adventure|Childre...|\n",
            "|      3|Grumpier Old Men ...|      Comedy|Romance|\n",
            "+-------+--------------------+--------------------+\n",
            "only showing top 3 rows\n",
            "\n"
          ]
        },
        {
          "output_type": "execute_result",
          "data": {
            "text/plain": [
              "10690"
            ]
          },
          "metadata": {},
          "execution_count": 23
        }
      ]
    },
    {
      "cell_type": "code",
      "source": [
        "rating_df = spark.read.text(path + \"ratings.dat\").select(\n",
        "    split(\"value\", \"::\").getItem(1).alias(\"MovieID\"),\n",
        "    split(\"value\", \"::\").getItem(2).cast(\"float\").alias(\"Rating\"),\n",
        "    split(\"value\", \"::\").getItem(3).alias(\"Timestamp\")\n",
        ")\n",
        "rating_df = rating_df.dropna()\n",
        "rating_df = rating_df.filter((rating_df.Rating >= 0) & (rating_df.Rating <= 5))\n",
        "rating_df = rating_df.withColumn(\"Date\", to_date(from_unixtime(\"Timestamp\", \"yyyy-MM-dd HH:mm:ss\")))\n",
        "#rating_df.cache()\n",
        "rating_df.show(3)\n",
        "rating_df.count()"
      ],
      "metadata": {
        "colab": {
          "base_uri": "https://localhost:8080/"
        },
        "id": "QGRWEhUH1_Ye",
        "outputId": "9228872f-6716-441f-f609-fc1f9a275dd5"
      },
      "execution_count": 24,
      "outputs": [
        {
          "output_type": "stream",
          "name": "stdout",
          "text": [
            "+-------+------+---------+----------+\n",
            "|MovieID|Rating|Timestamp|      Date|\n",
            "+-------+------+---------+----------+\n",
            "|    122|   5.0|838985046|1996-08-02|\n",
            "|    185|   5.0|838983525|1996-08-02|\n",
            "|    231|   5.0|838983392|1996-08-02|\n",
            "+-------+------+---------+----------+\n",
            "only showing top 3 rows\n",
            "\n"
          ]
        },
        {
          "output_type": "execute_result",
          "data": {
            "text/plain": [
              "10000035"
            ]
          },
          "metadata": {},
          "execution_count": 24
        }
      ]
    },
    {
      "cell_type": "markdown",
      "source": [
        "**(Q1) What are the titles of top 5 most popular movies i.e. have the most ranking in the whole dataset?**"
      ],
      "metadata": {
        "id": "YTE7i-v21hux"
      }
    },
    {
      "cell_type": "code",
      "source": [
        "movie_rating_count = rating_df.groupBy(\"MovieID\").agg(\n",
        "    count(\"*\").alias(\"#Ratings\")).orderBy(\"#Ratings\", ascending=False)\n",
        "movie_rating_count = movie_rating_count.withColumn(\"Rank\", monotonically_increasing_id())\n",
        "popular_movies = movie_rating_count.join(movie_df, \"MovieID\").select(\n",
        "    \"Rank\", \"#Ratings\", \"Title\")\n",
        "#popular_movies.cache()"
      ],
      "metadata": {
        "id": "OCZb8mXY1m95"
      },
      "execution_count": 28,
      "outputs": []
    },
    {
      "cell_type": "code",
      "source": [
        "top_n_movie = 5\n",
        "popular_movies.show(top_n_movie)"
      ],
      "metadata": {
        "colab": {
          "base_uri": "https://localhost:8080/"
        },
        "id": "0Qesv9Xgq-3a",
        "outputId": "78382a07-15ab-4cad-fcf2-3cdae37c9242"
      },
      "execution_count": 26,
      "outputs": [
        {
          "output_type": "stream",
          "name": "stdout",
          "text": [
            "+----+--------+--------------------+\n",
            "|Rank|#Ratings|               Title|\n",
            "+----+--------+--------------------+\n",
            "|   0|   34864| Pulp Fiction (1994)|\n",
            "|   1|   34457| Forrest Gump (1994)|\n",
            "|   2|   33668|Silence of the La...|\n",
            "|   3|   32631|Jurassic Park (1993)|\n",
            "|   4|   31126|Shawshank Redempt...|\n",
            "+----+--------+--------------------+\n",
            "only showing top 5 rows\n",
            "\n"
          ]
        }
      ]
    },
    {
      "cell_type": "markdown",
      "source": [
        "**(Q2) What are the top 5 ranked movie genres on average in the whole dataset?**"
      ],
      "metadata": {
        "id": "hs3V6dE6L2pl"
      }
    },
    {
      "cell_type": "code",
      "source": [
        "movie_avg_ratings = rating_df.groupBy(\"MovieID\").agg(avg(\"Rating\").alias('Avg_Rating'))\n",
        "movie_avg_ratings.show(10)"
      ],
      "metadata": {
        "colab": {
          "base_uri": "https://localhost:8080/"
        },
        "id": "drPZpn05L5aC",
        "outputId": "6cc76048-4f78-4b12-bd7c-51be249bcc5f"
      },
      "execution_count": 29,
      "outputs": [
        {
          "output_type": "stream",
          "name": "stdout",
          "text": [
            "+-------+------------------+\n",
            "|MovieID|        Avg_Rating|\n",
            "+-------+------------------+\n",
            "|   2294| 3.369998048018739|\n",
            "|    296| 4.157425998164295|\n",
            "|   1090| 3.925811260176585|\n",
            "|   2136|2.9290281329923276|\n",
            "|   3210|3.7045234639574263|\n",
            "|    829|  2.66636197440585|\n",
            "|   2162|  2.34106239460371|\n",
            "|   2088|2.5516912815626487|\n",
            "|   3959| 3.709309689677011|\n",
            "|   2069| 3.789208633093525|\n",
            "+-------+------------------+\n",
            "only showing top 10 rows\n",
            "\n"
          ]
        }
      ]
    },
    {
      "cell_type": "code",
      "source": [
        "movie_genres = movie_df.withColumn(\"Genre\", explode(\n",
        "    split(\"Genres\", \"\\|\"))).select(\"MovieID\", \"Genre\")\n",
        "movie_genres.show(10)\n",
        "#movie_genres.count()"
      ],
      "metadata": {
        "colab": {
          "base_uri": "https://localhost:8080/"
        },
        "id": "DKRs-ISiSmtc",
        "outputId": "2a4981eb-6da1-470a-fb56-6a004c9d75d9"
      },
      "execution_count": 30,
      "outputs": [
        {
          "output_type": "stream",
          "name": "stdout",
          "text": [
            "+-------+---------+\n",
            "|MovieID|    Genre|\n",
            "+-------+---------+\n",
            "|      1|Adventure|\n",
            "|      1|Animation|\n",
            "|      1| Children|\n",
            "|      1|   Comedy|\n",
            "|      1|  Fantasy|\n",
            "|      2|Adventure|\n",
            "|      2| Children|\n",
            "|      2|  Fantasy|\n",
            "|      3|   Comedy|\n",
            "|      3|  Romance|\n",
            "+-------+---------+\n",
            "only showing top 10 rows\n",
            "\n"
          ]
        },
        {
          "output_type": "execute_result",
          "data": {
            "text/plain": [
              "21588"
            ]
          },
          "metadata": {},
          "execution_count": 30
        }
      ]
    },
    {
      "cell_type": "code",
      "source": [
        "movie_genres_rating = movie_genres.join(movie_avg_ratings,\"MovieID\")\n",
        "movie_genres_rating.show(10)\n",
        "#movie_genres_rating.count()"
      ],
      "metadata": {
        "colab": {
          "base_uri": "https://localhost:8080/"
        },
        "id": "fpRLZN1ZhTCJ",
        "outputId": "c1fbe3f7-fe07-481b-a9dc-f99946ab1dd9"
      },
      "execution_count": 31,
      "outputs": [
        {
          "output_type": "stream",
          "name": "stdout",
          "text": [
            "+-------+---------+-----------------+\n",
            "|MovieID|    Genre|       Avg_Rating|\n",
            "+-------+---------+-----------------+\n",
            "|   2294|  Fantasy|3.369998048018739|\n",
            "|   2294|   Comedy|3.369998048018739|\n",
            "|   2294| Children|3.369998048018739|\n",
            "|   2294|Animation|3.369998048018739|\n",
            "|   2294|Adventure|3.369998048018739|\n",
            "|    296|    Drama|4.157425998164295|\n",
            "|    296|    Crime|4.157425998164295|\n",
            "|    296|   Comedy|4.157425998164295|\n",
            "|   1090|      War|3.925811260176585|\n",
            "|   1090|    Drama|3.925811260176585|\n",
            "+-------+---------+-----------------+\n",
            "only showing top 10 rows\n",
            "\n"
          ]
        },
        {
          "output_type": "execute_result",
          "data": {
            "text/plain": [
              "21581"
            ]
          },
          "metadata": {},
          "execution_count": 31
        }
      ]
    },
    {
      "cell_type": "code",
      "source": [
        "genre_ratings = movie_genres_rating.groupBy(\"Genre\").agg(\n",
        "    avg(\"Avg_Rating\").alias('Avg_Rating'))\n",
        "genre_ratings = genre_ratings.orderBy('Avg_Rating', ascending = False)\n",
        "#genre_ratings.cache()\n",
        "#genre_ratings.count()"
      ],
      "metadata": {
        "id": "Uqcz1xPIh634"
      },
      "execution_count": 33,
      "outputs": []
    },
    {
      "cell_type": "code",
      "source": [
        "top_n_genre = 5\n",
        "genre_ratings.show(top_n_genre)"
      ],
      "metadata": {
        "colab": {
          "base_uri": "https://localhost:8080/"
        },
        "id": "bNjxqR_TyuHV",
        "outputId": "fe026c18-3318-43d5-edfa-7446dac2be5f"
      },
      "execution_count": 34,
      "outputs": [
        {
          "output_type": "stream",
          "name": "stdout",
          "text": [
            "+------------------+------------------+\n",
            "|             Genre|        Avg_Rating|\n",
            "+------------------+------------------+\n",
            "|         Film-Noir|3.7118715983793593|\n",
            "|(no genres listed)| 3.642857142857143|\n",
            "|       Documentary|3.4602546086567334|\n",
            "|               War| 3.454612791239216|\n",
            "|             Drama| 3.349892884484847|\n",
            "+------------------+------------------+\n",
            "only showing top 5 rows\n",
            "\n"
          ]
        }
      ]
    },
    {
      "cell_type": "markdown",
      "source": [
        "**(Q3) How many movies have been ranked the most consecutive days?**"
      ],
      "metadata": {
        "id": "gILJkeaNOEuI"
      }
    },
    {
      "cell_type": "code",
      "source": [
        "movie_rating_date = rating_df.select([\"MovieID\",\"Date\"]).drop_duplicates()\n",
        "movie_rating_date.show(10)\n",
        "#movie_rating_date.count()"
      ],
      "metadata": {
        "colab": {
          "base_uri": "https://localhost:8080/"
        },
        "id": "W65JNMJ_OC-L",
        "outputId": "8a1db3bb-04e8-4667-a1bd-5fd03e715374"
      },
      "execution_count": 35,
      "outputs": [
        {
          "output_type": "stream",
          "name": "stdout",
          "text": [
            "+-------+----------+\n",
            "|MovieID|      Date|\n",
            "+-------+----------+\n",
            "|   1409|2005-05-12|\n",
            "|   1994|2005-05-20|\n",
            "|   3973|2005-05-20|\n",
            "|   6567|2005-05-20|\n",
            "|   7395|2005-05-20|\n",
            "|   7448|2005-05-20|\n",
            "|  30822|2005-05-20|\n",
            "|    165|2005-03-23|\n",
            "|    344|2005-03-23|\n",
            "|   2403|2005-03-23|\n",
            "+-------+----------+\n",
            "only showing top 10 rows\n",
            "\n"
          ]
        }
      ]
    },
    {
      "cell_type": "code",
      "source": [
        "winspec = Window.partitionBy(\"MovieID\").orderBy(\"Date\")\n",
        "movie_rating_date = movie_rating_date.withColumn(\"date_diff\",\n",
        "    datediff(\"Date\", lag(\"Date\", 1).over(winspec)))\n",
        "movie_rating_date = movie_rating_date.withColumn(\"winID\",\n",
        "    sum(when(col(\"date_diff\") != 1, 1).otherwise(0)).over(\n",
        "        winspec.rowsBetween(Window.unboundedPreceding, 0)))\n",
        "movie_rating_date.show(10)"
      ],
      "metadata": {
        "colab": {
          "base_uri": "https://localhost:8080/"
        },
        "id": "gW2WS-YUZ3CD",
        "outputId": "174409a4-8264-4b00-c8f7-e184944e30eb"
      },
      "execution_count": 36,
      "outputs": [
        {
          "output_type": "stream",
          "name": "stdout",
          "text": [
            "+-------+----------+---------+-----+\n",
            "|MovieID|      Date|date_diff|winID|\n",
            "+-------+----------+---------+-----+\n",
            "|    100|1996-02-15|     NULL|    0|\n",
            "|    100|1996-03-12|       26|    1|\n",
            "|    100|1996-03-28|       16|    2|\n",
            "|    100|1996-03-30|        2|    3|\n",
            "|    100|1996-03-31|        1|    3|\n",
            "|    100|1996-04-01|        1|    3|\n",
            "|    100|1996-04-02|        1|    3|\n",
            "|    100|1996-04-04|        2|    4|\n",
            "|    100|1996-04-07|        3|    5|\n",
            "|    100|1996-04-08|        1|    5|\n",
            "+-------+----------+---------+-----+\n",
            "only showing top 10 rows\n",
            "\n"
          ]
        }
      ]
    },
    {
      "cell_type": "code",
      "source": [
        "movie_rated_days = movie_rating_date.groupBy(\"MovieID\", \"winID\").count()\n",
        "movie_rated_days = movie_rated_days.groupBy(\"MovieID\").agg(max(\"count\").alias(\"Max_Consecutive_Days\"))\n",
        "movie_rated_days = movie_rated_days.orderBy(\"Max_Consecutive_Days\", ascending=False)\n",
        "#movie_rated_days.cache()\n",
        "movie_rated_days.show(10)"
      ],
      "metadata": {
        "id": "X_Ds-kCGgiGq",
        "colab": {
          "base_uri": "https://localhost:8080/"
        },
        "outputId": "3857e163-134d-49df-b8ec-4656342dc8c9"
      },
      "execution_count": 37,
      "outputs": [
        {
          "output_type": "stream",
          "name": "stdout",
          "text": [
            "+-------+--------------------+\n",
            "|MovieID|Max_Consecutive_Days|\n",
            "+-------+--------------------+\n",
            "|   5952|                 622|\n",
            "|   2858|                 485|\n",
            "|   4993|                 483|\n",
            "|    356|                 425|\n",
            "|   6377|                 425|\n",
            "|   2571|                 364|\n",
            "|   2762|                 362|\n",
            "|   1270|                 327|\n",
            "|    593|                 317|\n",
            "|   3578|                 307|\n",
            "+-------+--------------------+\n",
            "only showing top 10 rows\n",
            "\n"
          ]
        }
      ]
    }
  ]
}