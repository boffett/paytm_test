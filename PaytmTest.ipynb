{
  "nbformat": 4,
  "nbformat_minor": 0,
  "metadata": {
    "colab": {
      "provenance": [],
      "authorship_tag": "ABX9TyNcmCk365mi24tkrwO9K0zh",
      "include_colab_link": true
    },
    "kernelspec": {
      "name": "python3",
      "display_name": "Python 3"
    },
    "language_info": {
      "name": "python"
    }
  },
  "cells": [
    {
      "cell_type": "markdown",
      "metadata": {
        "id": "view-in-github",
        "colab_type": "text"
      },
      "source": [
        "<a href=\"https://colab.research.google.com/github/boffett/paytm_test/blob/main/PaytmTest.ipynb\" target=\"_parent\"><img src=\"https://colab.research.google.com/assets/colab-badge.svg\" alt=\"Open In Colab\"/></a>"
      ]
    },
    {
      "cell_type": "code",
      "source": [
        "!pip install pyspark"
      ],
      "metadata": {
        "colab": {
          "base_uri": "https://localhost:8080/"
        },
        "id": "UUgu2Yut3nAq",
        "outputId": "4ce97a96-c976-4796-e331-85457bddb774"
      },
      "execution_count": 1,
      "outputs": [
        {
          "output_type": "stream",
          "name": "stdout",
          "text": [
            "Requirement already satisfied: pyspark==3.5.1 in /usr/local/lib/python3.10/dist-packages (3.5.1)\n",
            "Requirement already satisfied: py4j==0.10.9.7 in /usr/local/lib/python3.10/dist-packages (from pyspark==3.5.1) (0.10.9.7)\n"
          ]
        }
      ]
    },
    {
      "cell_type": "code",
      "source": [
        "from pyspark.sql import SparkSession\n",
        "from pyspark.sql.functions import udf, col, monotonically_increasing_id, split, explode\n",
        "from pyspark.sql.types import StructType, StructField, StringType, IntegerType, BooleanType, DateType, FloatType\n",
        "from pyspark.mllib.recommendation import ALS, MatrixFactorizationModel, Rating"
      ],
      "metadata": {
        "id": "2AG7gJIQ-pf8"
      },
      "execution_count": 155,
      "outputs": []
    },
    {
      "cell_type": "code",
      "source": [
        "path = \"/content/paytm_test/\"\n",
        "spark = SparkSession.builder.getOrCreate()\n",
        "sc = spark.sparkContext"
      ],
      "metadata": {
        "id": "6praYfHMDLcG"
      },
      "execution_count": 52,
      "outputs": []
    },
    {
      "cell_type": "code",
      "source": [
        "movie_schema = StructType([\n",
        "    StructField(\"MovieID\", IntegerType(), True),\n",
        "    StructField(\"Title\", StringType(), True),\n",
        "    StructField(\"Genres\", StringType(), True)\n",
        "])\n",
        "\n",
        "movie_df = spark.read.csv(path + \"movies.dat\", sep=\"::\", header=False, schema=movie_schema, mode='DROPMALFORMED')\n",
        "movie_df.show(3)\n",
        "movie_df.count()"
      ],
      "metadata": {
        "id": "3xSDKkOw_O-a",
        "colab": {
          "base_uri": "https://localhost:8080/"
        },
        "outputId": "6213510e-4443-4edb-dca1-fc71685edade"
      },
      "execution_count": 160,
      "outputs": [
        {
          "output_type": "stream",
          "name": "stdout",
          "text": [
            "+-------+--------------------+--------------------+\n",
            "|MovieID|               Title|              Genres|\n",
            "+-------+--------------------+--------------------+\n",
            "|      1|    Toy Story (1995)|Adventure|Animati...|\n",
            "|      2|      Jumanji (1995)|Adventure|Childre...|\n",
            "|      3|Grumpier Old Men ...|      Comedy|Romance|\n",
            "+-------+--------------------+--------------------+\n",
            "only showing top 3 rows\n",
            "\n"
          ]
        },
        {
          "output_type": "execute_result",
          "data": {
            "text/plain": [
              "10690"
            ]
          },
          "metadata": {},
          "execution_count": 160
        }
      ]
    },
    {
      "cell_type": "code",
      "source": [
        "rating_schema = StructType([\n",
        "    StructField(\"UserID\", IntegerType(), True),\n",
        "    StructField(\"MovieID\", IntegerType(), True),\n",
        "    StructField(\"Rating\", FloatType(), True),\n",
        "    StructField(\"Timestamp\", IntegerType(), True)\n",
        "])\n",
        "\n",
        "rating_df = spark.read.csv(path + \"ratings.dat\", sep=\"::\", header=False, schema=rating_schema, mode='DROPMALFORMED')\n",
        "rating_df.show(3)\n",
        "rating_df.count()"
      ],
      "metadata": {
        "colab": {
          "base_uri": "https://localhost:8080/"
        },
        "id": "DeQOotmpjmi7",
        "outputId": "c0734c27-3ed7-4a67-8d9d-305ee912f63b"
      },
      "execution_count": 135,
      "outputs": [
        {
          "output_type": "stream",
          "name": "stdout",
          "text": [
            "+------+-------+------+---------+\n",
            "|UserID|MovieID|Rating|Timestamp|\n",
            "+------+-------+------+---------+\n",
            "|     1|    122|   5.0|838985046|\n",
            "|     1|    185|   5.0|838983525|\n",
            "|     1|    231|   5.0|838983392|\n",
            "+------+-------+------+---------+\n",
            "only showing top 3 rows\n",
            "\n"
          ]
        },
        {
          "output_type": "execute_result",
          "data": {
            "text/plain": [
              "18525891"
            ]
          },
          "metadata": {},
          "execution_count": 135
        }
      ]
    },
    {
      "cell_type": "markdown",
      "source": [
        "**(Q1) What are the titles of top 5 most popular movies i.e. have the most ranking in the whole dataset?**"
      ],
      "metadata": {
        "id": "YTE7i-v21hux"
      }
    },
    {
      "cell_type": "code",
      "source": [
        "movie_rating_count = rating_df.groupBy(\"MovieID\").count().orderBy(\"count\", ascending=False)\n",
        "popular_movie_count = movie_rating_count.withColumn(\"Rank#\", monotonically_increasing_id())\n",
        "popular_movies = popular_movie_count.join(movie_df, \"MovieID\").select(\n",
        "    \"Rank#\", \"count\", \"Title\")\n",
        "popular_movies.persist()"
      ],
      "metadata": {
        "colab": {
          "base_uri": "https://localhost:8080/"
        },
        "id": "OCZb8mXY1m95",
        "outputId": "9f8bec6f-69d2-44a8-97e1-0615b159103d"
      },
      "execution_count": 145,
      "outputs": [
        {
          "output_type": "execute_result",
          "data": {
            "text/plain": [
              "DataFrame[Rank#: bigint, count: bigint, Title: string]"
            ]
          },
          "metadata": {},
          "execution_count": 145
        }
      ]
    },
    {
      "cell_type": "code",
      "source": [
        "top_N = 5\n",
        "popular_movies.show(top_N)"
      ],
      "metadata": {
        "colab": {
          "base_uri": "https://localhost:8080/"
        },
        "id": "0Qesv9Xgq-3a",
        "outputId": "3676bdcd-cfbd-4526-b1b0-a3ebc73afc1e"
      },
      "execution_count": 148,
      "outputs": [
        {
          "output_type": "stream",
          "name": "stdout",
          "text": [
            "+-----+-----+--------------------+\n",
            "|Rank#|count|               Title|\n",
            "+-----+-----+--------------------+\n",
            "|    0|64716| Pulp Fiction (1994)|\n",
            "|    1|63998| Forrest Gump (1994)|\n",
            "|    2|62286|Silence of the La...|\n",
            "|    3|60661|Jurassic Park (1993)|\n",
            "|    4|57814|Shawshank Redempt...|\n",
            "+-----+-----+--------------------+\n",
            "only showing top 5 rows\n",
            "\n"
          ]
        }
      ]
    },
    {
      "cell_type": "markdown",
      "source": [
        "**(Q2) What are the top 5 ranked movie genres on average in the whole dataset?**"
      ],
      "metadata": {
        "id": "hs3V6dE6L2pl"
      }
    },
    {
      "cell_type": "code",
      "source": [
        "movie_avg_ratings = rating_df.groupBy(\"MovieID\").agg({\"Rating\":\"mean\"})\n",
        "movie_avg_ratings = movie_avg_ratings.withColumnRenamed('avg(Rating)', 'movie_avg_rating')\n",
        "movie_avg_ratings.show(10)"
      ],
      "metadata": {
        "colab": {
          "base_uri": "https://localhost:8080/"
        },
        "id": "drPZpn05L5aC",
        "outputId": "6fa2e2b6-dcb6-4be7-e686-30926270d636"
      },
      "execution_count": 173,
      "outputs": [
        {
          "output_type": "stream",
          "name": "stdout",
          "text": [
            "+-------+------------------+\n",
            "|MovieID|  movie_avg_rating|\n",
            "+-------+------------------+\n",
            "|   1580| 3.561991929352594|\n",
            "|   5300|  3.68732782369146|\n",
            "|    471|3.6608205953338695|\n",
            "|   1591| 2.596472629144179|\n",
            "|   3175|3.6237578726382087|\n",
            "|   3997|2.0719424460431655|\n",
            "|   1959|3.6305361305361306|\n",
            "|   2366| 3.619745029594779|\n",
            "|   2866|3.6053639846743293|\n",
            "|   1088| 3.191771459814106|\n",
            "+-------+------------------+\n",
            "only showing top 10 rows\n",
            "\n"
          ]
        }
      ]
    },
    {
      "cell_type": "code",
      "source": [
        "movie_genres = movie_df.withColumn(\"genre_list\", split(col(\"Genres\"), \"\\|\"))\n",
        "movie_genres = movie_genres.withColumn(\"genre\", explode(col(\"genre_list\"))).select(\n",
        "    \"MovieID\", \"genre\")\n",
        "movie_genres.show(10)\n",
        "movie_genres.count()"
      ],
      "metadata": {
        "colab": {
          "base_uri": "https://localhost:8080/"
        },
        "id": "DKRs-ISiSmtc",
        "outputId": "2bb271b4-085f-4001-8ce9-d0a1878af976"
      },
      "execution_count": 174,
      "outputs": [
        {
          "output_type": "stream",
          "name": "stdout",
          "text": [
            "+-------+---------+\n",
            "|MovieID|    genre|\n",
            "+-------+---------+\n",
            "|      1|Adventure|\n",
            "|      1|Animation|\n",
            "|      1| Children|\n",
            "|      1|   Comedy|\n",
            "|      1|  Fantasy|\n",
            "|      2|Adventure|\n",
            "|      2| Children|\n",
            "|      2|  Fantasy|\n",
            "|      3|   Comedy|\n",
            "|      3|  Romance|\n",
            "+-------+---------+\n",
            "only showing top 10 rows\n",
            "\n"
          ]
        },
        {
          "output_type": "execute_result",
          "data": {
            "text/plain": [
              "21588"
            ]
          },
          "metadata": {},
          "execution_count": 174
        }
      ]
    },
    {
      "cell_type": "code",
      "source": [
        "movie_genres_rating = movie_genres.join(movie_avg_ratings,\"MovieID\")\n",
        "movie_genres_rating.show(10)\n",
        "movie_genres_rating.count()"
      ],
      "metadata": {
        "colab": {
          "base_uri": "https://localhost:8080/"
        },
        "id": "fpRLZN1ZhTCJ",
        "outputId": "c30fe79b-6e43-4fc4-a6c9-4c06bdc6ae89"
      },
      "execution_count": 175,
      "outputs": [
        {
          "output_type": "stream",
          "name": "stdout",
          "text": [
            "+-------+---------+------------------+\n",
            "|MovieID|    genre|  movie_avg_rating|\n",
            "+-------+---------+------------------+\n",
            "|   1580|   Sci-Fi| 3.561991929352594|\n",
            "|   1580|   Comedy| 3.561991929352594|\n",
            "|   1580|   Action| 3.561991929352594|\n",
            "|   5300|  Western|  3.68732782369146|\n",
            "|   5300| Thriller|  3.68732782369146|\n",
            "|   5300|    Drama|  3.68732782369146|\n",
            "|   5300|Adventure|  3.68732782369146|\n",
            "|   5300|   Action|  3.68732782369146|\n",
            "|    471|  Romance|3.6608205953338695|\n",
            "|    471|  Fantasy|3.6608205953338695|\n",
            "+-------+---------+------------------+\n",
            "only showing top 10 rows\n",
            "\n"
          ]
        },
        {
          "output_type": "execute_result",
          "data": {
            "text/plain": [
              "21576"
            ]
          },
          "metadata": {},
          "execution_count": 175
        }
      ]
    },
    {
      "cell_type": "code",
      "source": [
        "genre_rating = movie_genres_rating.groupBy(\"genre\").agg({\"movie_avg_rating\":\"mean\"})\n",
        "genre_rating.show(10)"
      ],
      "metadata": {
        "colab": {
          "base_uri": "https://localhost:8080/"
        },
        "id": "Uqcz1xPIh634",
        "outputId": "f16e6109-c38a-4cb1-bb1f-6c513e44a40a"
      },
      "execution_count": 176,
      "outputs": [
        {
          "output_type": "stream",
          "name": "stdout",
          "text": [
            "+-----------+---------------------+\n",
            "|      genre|avg(movie_avg_rating)|\n",
            "+-----------+---------------------+\n",
            "|      Crime|   12.079643166332636|\n",
            "|    Romance|    3039.260323399675|\n",
            "|   Thriller|    7.175836935662055|\n",
            "|  Adventure|   1484.7369801194804|\n",
            "|      Drama|    869.8180305309024|\n",
            "|        War|   1886.1335649144946|\n",
            "|Documentary|    3.457128262558261|\n",
            "|    Fantasy|   1730.4554947929948|\n",
            "|    Mystery|   268.90436148393985|\n",
            "|    Musical|   3.2551734937213523|\n",
            "+-----------+---------------------+\n",
            "only showing top 10 rows\n",
            "\n"
          ]
        }
      ]
    }
  ]
}