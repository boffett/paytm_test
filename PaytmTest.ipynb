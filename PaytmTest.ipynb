{
  "nbformat": 4,
  "nbformat_minor": 0,
  "metadata": {
    "colab": {
      "provenance": [],
      "authorship_tag": "ABX9TyN6f/jdNd8LOwDj0agS0A3B",
      "include_colab_link": true
    },
    "kernelspec": {
      "name": "python3",
      "display_name": "Python 3"
    },
    "language_info": {
      "name": "python"
    }
  },
  "cells": [
    {
      "cell_type": "markdown",
      "metadata": {
        "id": "view-in-github",
        "colab_type": "text"
      },
      "source": [
        "<a href=\"https://colab.research.google.com/github/boffett/paytm_test/blob/main/PaytmTest.ipynb\" target=\"_parent\"><img src=\"https://colab.research.google.com/assets/colab-badge.svg\" alt=\"Open In Colab\"/></a>"
      ]
    },
    {
      "cell_type": "code",
      "source": [
        "!pip install pyspark"
      ],
      "metadata": {
        "id": "UUgu2Yut3nAq",
        "colab": {
          "base_uri": "https://localhost:8080/"
        },
        "outputId": "ba30b445-3cc8-4e42-9aaa-d0111729fe00"
      },
      "execution_count": 65,
      "outputs": [
        {
          "output_type": "stream",
          "name": "stdout",
          "text": [
            "Requirement already satisfied: pyspark in /usr/local/lib/python3.10/dist-packages (3.5.1)\n",
            "Requirement already satisfied: py4j==0.10.9.7 in /usr/local/lib/python3.10/dist-packages (from pyspark) (0.10.9.7)\n"
          ]
        }
      ]
    },
    {
      "cell_type": "code",
      "source": [
        "from pyspark.sql import SparkSession, Window\n",
        "from pyspark.sql.functions import *\n",
        "from pyspark.mllib.recommendation import ALS"
      ],
      "metadata": {
        "id": "2AG7gJIQ-pf8"
      },
      "execution_count": 67,
      "outputs": []
    },
    {
      "cell_type": "markdown",
      "source": [
        "**First, read the data from the following files (movies.dat, ratings.dat) and reorganize/clean the data to be used in the model.**"
      ],
      "metadata": {
        "id": "r9xfJT0k0-8e"
      }
    },
    {
      "cell_type": "code",
      "source": [
        "path = \"/content/paytm_test/\"\n",
        "spark = SparkSession.builder.appName(\"PaytmTest\").getOrCreate()"
      ],
      "metadata": {
        "id": "6praYfHMDLcG"
      },
      "execution_count": null,
      "outputs": []
    },
    {
      "cell_type": "code",
      "source": [
        "movie_df = spark.read.text(path + \"movies.dat\").select(\n",
        "    split(\"value\", \"::\").getItem(0).cast(\"integer\").alias(\"MovieID\"),\n",
        "    split(\"value\", \"::\").getItem(1).alias(\"Title\"),\n",
        "    split(\"value\", \"::\").getItem(2).alias(\"Genres\")\n",
        ")\n",
        "movie_df = movie_df.dropna()\n",
        "#movie_df.cache()\n",
        "movie_df.show(3)\n",
        "movie_df.count()"
      ],
      "metadata": {
        "id": "O6sZ-rd41ZBc"
      },
      "execution_count": null,
      "outputs": []
    },
    {
      "cell_type": "code",
      "source": [
        "rating_df = spark.read.text(path + \"ratings.dat\").select(\n",
        "    split(\"value\", \"::\").getItem(0).cast(\"integer\").alias(\"UserID\"),\n",
        "    split(\"value\", \"::\").getItem(1).cast(\"integer\").alias(\"MovieID\"),\n",
        "    split(\"value\", \"::\").getItem(2).cast(\"float\").alias(\"Rating\"),\n",
        "    split(\"value\", \"::\").getItem(3).alias(\"Timestamp\")\n",
        ")\n",
        "rating_df = rating_df.dropna()\n",
        "rating_df = rating_df.filter((rating_df.Rating >= 0) & (rating_df.Rating <= 5))\n",
        "rating_df = rating_df.withColumn(\"Date\", to_date(from_unixtime(\"Timestamp\")))\n",
        "rating_df = rating_df.drop(\"Timestamp\")\n",
        "#rating_df.cache()\n",
        "rating_df.show(3)\n",
        "rating_df.count()"
      ],
      "metadata": {
        "id": "QGRWEhUH1_Ye"
      },
      "execution_count": null,
      "outputs": []
    },
    {
      "cell_type": "markdown",
      "source": [
        "**(Q1) What are the titles of top 5 most popular movies i.e. have the most ranking in the whole dataset?**"
      ],
      "metadata": {
        "id": "YTE7i-v21hux"
      }
    },
    {
      "cell_type": "code",
      "source": [
        "movie_rating_count = rating_df.groupBy(\"MovieID\").agg(\n",
        "    count(\"*\").alias(\"#Ratings\")).orderBy(\"#Ratings\", ascending=False)\n",
        "movie_rating_count = movie_rating_count.withColumn(\"Rank\", monotonically_increasing_id())\n",
        "popular_movies = movie_rating_count.join(movie_df, \"MovieID\").select(\n",
        "    \"Rank\", \"#Ratings\", \"Title\")\n",
        "#popular_movies.cache()"
      ],
      "metadata": {
        "id": "OCZb8mXY1m95"
      },
      "execution_count": null,
      "outputs": []
    },
    {
      "cell_type": "code",
      "source": [
        "top_n_movie = 5\n",
        "popular_movies.show(top_n_movie)"
      ],
      "metadata": {
        "id": "0Qesv9Xgq-3a"
      },
      "execution_count": null,
      "outputs": []
    },
    {
      "cell_type": "markdown",
      "source": [
        "**(Q2) What are the top 5 ranked movie genres on average in the whole dataset?**"
      ],
      "metadata": {
        "id": "hs3V6dE6L2pl"
      }
    },
    {
      "cell_type": "code",
      "source": [
        "movie_avg_ratings = rating_df.groupBy(\"MovieID\").agg(avg(\"Rating\").alias('Avg_Rating'))\n",
        "movie_avg_ratings.show(10)"
      ],
      "metadata": {
        "id": "drPZpn05L5aC"
      },
      "execution_count": null,
      "outputs": []
    },
    {
      "cell_type": "code",
      "source": [
        "movie_genres_rating = movie_avg_ratings.join(movie_df,\"MovieID\").select(\n",
        "    \"MovieID\", \"Avg_Rating\", \"Genres\")\n",
        "movie_genres_rating.show(10)\n",
        "#movie_genres_rating.count()"
      ],
      "metadata": {
        "id": "fpRLZN1ZhTCJ"
      },
      "execution_count": null,
      "outputs": []
    },
    {
      "cell_type": "code",
      "source": [
        "genre_ratings = movie_genres_rating.withColumn(\"Genre\", explode(\n",
        "    split(\"Genres\", \"\\|\"))).select(\"Genre\", \"Avg_Rating\")\n",
        "genre_ratings.show(10)\n",
        "#genre_ratings.count()"
      ],
      "metadata": {
        "id": "DKRs-ISiSmtc"
      },
      "execution_count": null,
      "outputs": []
    },
    {
      "cell_type": "code",
      "source": [
        "genre_avg_rating = genre_ratings.groupBy(\"Genre\").agg(\n",
        "    avg(\"Avg_Rating\").alias('Avg_Rating'))\n",
        "genre_avg_rating = genre_avg_rating.orderBy('Avg_Rating', ascending = False)\n",
        "#genre_ratings.cache()\n",
        "#genre_ratings.count()"
      ],
      "metadata": {
        "id": "Uqcz1xPIh634"
      },
      "execution_count": null,
      "outputs": []
    },
    {
      "cell_type": "code",
      "source": [
        "top_n_genre = 5\n",
        "genre_avg_rating.show(top_n_genre)"
      ],
      "metadata": {
        "id": "bNjxqR_TyuHV"
      },
      "execution_count": null,
      "outputs": []
    },
    {
      "cell_type": "markdown",
      "source": [
        "**(Q3) How many movies have been ranked the most consecutive days?**"
      ],
      "metadata": {
        "id": "gILJkeaNOEuI"
      }
    },
    {
      "cell_type": "code",
      "source": [
        "movie_rating_date = rating_df.select([\"MovieID\",\"Date\"]).drop_duplicates()\n",
        "movie_rating_date.show(10)\n",
        "#movie_rating_date.count()"
      ],
      "metadata": {
        "id": "W65JNMJ_OC-L"
      },
      "execution_count": null,
      "outputs": []
    },
    {
      "cell_type": "code",
      "source": [
        "winspec = Window.partitionBy(\"MovieID\").orderBy(\"Date\")\n",
        "movie_rating_date = movie_rating_date.withColumn(\"date_diff\",\n",
        "    datediff(\"Date\", lag(\"Date\", 1).over(winspec)))\n",
        "movie_rating_date = movie_rating_date.withColumn(\"winID\",\n",
        "    sum(when(col(\"date_diff\") != 1, 1).otherwise(0)).over(\n",
        "        winspec.rowsBetween(Window.unboundedPreceding, 0)))\n",
        "movie_rating_date.show(10)"
      ],
      "metadata": {
        "id": "gW2WS-YUZ3CD"
      },
      "execution_count": null,
      "outputs": []
    },
    {
      "cell_type": "code",
      "source": [
        "movie_rated_days = movie_rating_date.groupBy(\"MovieID\", \"winID\").count()\n",
        "movie_rated_days = movie_rated_days.groupBy(\"MovieID\").agg(max(\"count\").alias(\"Max_Consecutive_Days\"))\n",
        "movie_rated_days = movie_rated_days.orderBy(\"Max_Consecutive_Days\", ascending=False)\n",
        "#movie_rated_days.cache()\n",
        "movie_rated_days.show(10)"
      ],
      "metadata": {
        "id": "X_Ds-kCGgiGq"
      },
      "execution_count": null,
      "outputs": []
    },
    {
      "cell_type": "markdown",
      "source": [
        "**Second, split the data into test and training sets and create a recommender system.**"
      ],
      "metadata": {
        "id": "ZsSb3n7UKkYs"
      }
    },
    {
      "cell_type": "code",
      "source": [
        "(train_df, test_df) = rating_df.randomSplit([0.8, 0.2])\n",
        "train_df.show(5)\n",
        "#train_df.count()"
      ],
      "metadata": {
        "id": "Siu6VD-0KmlN"
      },
      "execution_count": null,
      "outputs": []
    },
    {
      "cell_type": "code",
      "source": [
        "from pyspark.ml.recommendation import ALS\n",
        "als = ALS(\n",
        "    userCol=\"UserID\",\n",
        "    itemCol=\"MovieID\",\n",
        "    ratingCol=\"Rating\",\n",
        "    maxIter=10,\n",
        "    regParam=0.01,\n",
        "    nonnegative=True,\n",
        "    implicitPrefs=False,\n",
        "    coldStartStrategy=\"drop\"\n",
        ")\n",
        "model = als.fit(train_df)\n",
        "model.save(path + \"als.model\")"
      ],
      "metadata": {
        "id": "7y0avlDMV4U0"
      },
      "execution_count": null,
      "outputs": []
    },
    {
      "cell_type": "markdown",
      "source": [
        "**(Q4) What are the top 5 recommended movies made to one user, e.g. , UserID = 122 (any user can be selected)**"
      ],
      "metadata": {
        "id": "vHxq6vR2YNiG"
      }
    },
    {
      "cell_type": "code",
      "source": [
        "def recommend_movies(model, user_id, num_movies, movie_df, rating_df):\n",
        "    # 为指定的用户ID创建一个DataFrame\n",
        "    users_df = spark.createDataFrame([(user_id,)], [\"UserID\"])\n",
        "\n",
        "    # 使用模型为用户生成推荐\n",
        "    user_recs = model.recommendForUserSubset(users_df, num_movies * 3)  # 生成更多的推荐以便筛选\n",
        "\n",
        "    # 展开推荐结果\n",
        "    user_recs = user_recs.withColumn(\"rec_exp\", explode(\"recommendations\")).select('UserID', col(\"rec_exp.MovieID\"), col(\"rec_exp.rating\"))\n",
        "\n",
        "    # 获取用户的评分历史\n",
        "    user_rated_movies = rating_df.filter(col(\"UserID\") == user_id).select(\"MovieID\")\n",
        "\n",
        "    # 排除用户已评分的电影\n",
        "    recommendations = user_recs.join(user_rated_movies, \"MovieID\", \"left_anti\")\n",
        "\n",
        "    # 限制推荐数量\n",
        "    recommendations = recommendations.limit(num_movies)\n",
        "\n",
        "    # 获取电影详细信息\n",
        "    recommendations = recommendations.join(movie_df, \"MovieID\").select(\n",
        "        \"UserID\", \"Title\", \"rating\").orderBy(desc(\"rating\"))\n",
        "\n",
        "    return recommendations"
      ],
      "metadata": {
        "id": "BEuihX-0bzx_"
      },
      "execution_count": 73,
      "outputs": []
    },
    {
      "cell_type": "code",
      "source": [
        "user_id = 122\n",
        "num_movies = 5\n",
        "recommendations = recommend_movies(model, user_id, num_movies, movie_df, rating_df)\n",
        "recommendations.show(truncate=False)"
      ],
      "metadata": {
        "id": "O9zsa47xYPGM",
        "colab": {
          "base_uri": "https://localhost:8080/"
        },
        "outputId": "26bf4398-a676-407d-e247-26854610cd0f"
      },
      "execution_count": 74,
      "outputs": [
        {
          "output_type": "stream",
          "name": "stdout",
          "text": [
            "+------+---------------------------------------------------------------------+---------+\n",
            "|UserID|Title                                                                |rating   |\n",
            "+------+---------------------------------------------------------------------+---------+\n",
            "|122   |Man Who Planted Trees, The (Homme qui plantait des arbres, L') (1987)|5.728113 |\n",
            "|122   |More (1998)                                                          |5.4159226|\n",
            "|122   |Rocco and His Brothers (Rocco e i suoi fratelli) (1960)              |5.1476936|\n",
            "|122   |Human Condition II, The (Ningen no joken II) (1959)                  |5.0608134|\n",
            "|122   |Human Condition III, The (Ningen no joken III) (1961)                |5.027633 |\n",
            "+------+---------------------------------------------------------------------+---------+\n",
            "\n"
          ]
        }
      ]
    },
    {
      "cell_type": "markdown",
      "source": [
        "**(Q5) What are the top 5 movies that are most frequently recommended by your model? (use training set)**"
      ],
      "metadata": {
        "id": "2sfDjEwjZudq"
      }
    },
    {
      "cell_type": "code",
      "source": [
        "user_recs = model.recommendForAllUsers(5)\n",
        "movie_recs = user_recs.withColumn(\"recommendations\",\n",
        "    explode(\"recommendations\")).select(col(\"recommendations.MovieID\"))\n",
        "movie_freq = movie_recs.groupBy(\"MovieID\").count().orderBy(desc(\"count\"))\n",
        "top_5_movies = movie_freq.limit(5)\n",
        "top_5_movies_with_titles = top_5_movies.join(movie_df, \"MovieID\").select(\"MovieID\", \"Title\", \"count\")\n",
        "top_5_movies_with_titles.orderBy(desc(\"count\")).show(truncate=False)"
      ],
      "metadata": {
        "id": "ai_1EJBfnLnf"
      },
      "execution_count": null,
      "outputs": []
    },
    {
      "cell_type": "markdown",
      "source": [
        "**(Q6) Calculate the RMSE of your model for your test set.**"
      ],
      "metadata": {
        "id": "068f1zs5onxR"
      }
    },
    {
      "cell_type": "code",
      "source": [
        "from pyspark.ml.evaluation import RegressionEvaluator\n",
        "predict_test = model.transform(test_df)\n",
        "evaluator = RegressionEvaluator(metricName=\"rmse\", labelCol=\"Rating\", predictionCol=\"prediction\")\n",
        "rmse = evaluator.evaluate(predict_test)\n",
        "print(f\"RMSE on test data = {rmse}\")"
      ],
      "metadata": {
        "id": "FVBGbMsvopc8",
        "colab": {
          "base_uri": "https://localhost:8080/"
        },
        "outputId": "6eb996ec-6fb1-4202-8871-fa9ecb52e8a7"
      },
      "execution_count": 68,
      "outputs": [
        {
          "output_type": "stream",
          "name": "stdout",
          "text": [
            "Root Mean Square Error (RMSE) on test data = 0.8239066614293313\n"
          ]
        }
      ]
    }
  ]
}