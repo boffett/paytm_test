{
  "nbformat": 4,
  "nbformat_minor": 0,
  "metadata": {
    "colab": {
      "provenance": [],
      "authorship_tag": "ABX9TyMBcw+nACnYUU5Ytos5Yi3A",
      "include_colab_link": true
    },
    "kernelspec": {
      "name": "python3",
      "display_name": "Python 3"
    },
    "language_info": {
      "name": "python"
    }
  },
  "cells": [
    {
      "cell_type": "markdown",
      "metadata": {
        "id": "view-in-github",
        "colab_type": "text"
      },
      "source": [
        "<a href=\"https://colab.research.google.com/github/boffett/paytm_test/blob/main/PaytmTest.ipynb\" target=\"_parent\"><img src=\"https://colab.research.google.com/assets/colab-badge.svg\" alt=\"Open In Colab\"/></a>"
      ]
    },
    {
      "cell_type": "code",
      "source": [
        "!pip install pyspark"
      ],
      "metadata": {
        "colab": {
          "base_uri": "https://localhost:8080/"
        },
        "id": "UUgu2Yut3nAq",
        "outputId": "4ce97a96-c976-4796-e331-85457bddb774"
      },
      "execution_count": 1,
      "outputs": [
        {
          "output_type": "stream",
          "name": "stdout",
          "text": [
            "Requirement already satisfied: pyspark==3.5.1 in /usr/local/lib/python3.10/dist-packages (3.5.1)\n",
            "Requirement already satisfied: py4j==0.10.9.7 in /usr/local/lib/python3.10/dist-packages (from pyspark==3.5.1) (0.10.9.7)\n"
          ]
        }
      ]
    },
    {
      "cell_type": "code",
      "source": [
        "from pyspark.sql import SparkSession\n",
        "from pyspark.sql.functions import udf, col, monotonically_increasing_id, split, explode\n",
        "from pyspark.sql.types import StructType, StructField, StringType, IntegerType, BooleanType, DateType, FloatType\n",
        "from pyspark.mllib.recommendation import ALS, MatrixFactorizationModel, Rating"
      ],
      "metadata": {
        "id": "2AG7gJIQ-pf8"
      },
      "execution_count": 180,
      "outputs": []
    },
    {
      "cell_type": "code",
      "source": [
        "path = \"/content/paytm_test/\"\n",
        "spark = SparkSession.builder.getOrCreate()\n",
        "sc = spark.sparkContext"
      ],
      "metadata": {
        "id": "6praYfHMDLcG"
      },
      "execution_count": 181,
      "outputs": []
    },
    {
      "cell_type": "code",
      "source": [
        "movie_schema = StructType([\n",
        "    StructField(\"MovieID\", IntegerType(), True),\n",
        "    StructField(\"Title\", StringType(), True),\n",
        "    StructField(\"Genres\", StringType(), True)\n",
        "])\n",
        "\n",
        "movie_df = spark.read.csv(path + \"movies.dat\", sep=\"::\", header=False, schema=movie_schema, mode='DROPMALFORMED')\n",
        "movie_df = movie_df.dropna()\n",
        "movie_df.show(3)\n",
        "movie_df.count()"
      ],
      "metadata": {
        "id": "3xSDKkOw_O-a",
        "colab": {
          "base_uri": "https://localhost:8080/"
        },
        "outputId": "b92a46cf-d0a7-4063-dfa3-97ccd2c4b8e2"
      },
      "execution_count": 182,
      "outputs": [
        {
          "output_type": "stream",
          "name": "stdout",
          "text": [
            "+-------+--------------------+--------------------+\n",
            "|MovieID|               Title|              Genres|\n",
            "+-------+--------------------+--------------------+\n",
            "|      1|    Toy Story (1995)|Adventure|Animati...|\n",
            "|      2|      Jumanji (1995)|Adventure|Childre...|\n",
            "|      3|Grumpier Old Men ...|      Comedy|Romance|\n",
            "+-------+--------------------+--------------------+\n",
            "only showing top 3 rows\n",
            "\n"
          ]
        },
        {
          "output_type": "execute_result",
          "data": {
            "text/plain": [
              "10684"
            ]
          },
          "metadata": {},
          "execution_count": 182
        }
      ]
    },
    {
      "cell_type": "code",
      "source": [
        "rating_schema = StructType([\n",
        "    StructField(\"UserID\", IntegerType(), True),\n",
        "    StructField(\"MovieID\", IntegerType(), True),\n",
        "    StructField(\"Rating\", FloatType(), True),\n",
        "    StructField(\"Timestamp\", IntegerType(), True)\n",
        "])\n",
        "\n",
        "rating_df = spark.read.csv(path + \"ratings.dat\", sep=\"::\", header=False, schema=rating_schema, mode='DROPMALFORMED')\n",
        "rating_df = rating_df.dropna()\n",
        "rating_df = rating_df.filter((rating_df.Rating >= 0) & (rating_df.Rating <= 5))\n",
        "rating_df.show(3)\n",
        "rating_df.count()"
      ],
      "metadata": {
        "colab": {
          "base_uri": "https://localhost:8080/"
        },
        "id": "DeQOotmpjmi7",
        "outputId": "2dcf607b-b23d-4724-8c6f-8bfe16fa27e1"
      },
      "execution_count": 189,
      "outputs": [
        {
          "output_type": "stream",
          "name": "stdout",
          "text": [
            "+------+-------+------+---------+\n",
            "|UserID|MovieID|Rating|Timestamp|\n",
            "+------+-------+------+---------+\n",
            "|     1|    122|   5.0|838985046|\n",
            "|     1|    185|   5.0|838983525|\n",
            "|     1|    231|   5.0|838983392|\n",
            "+------+-------+------+---------+\n",
            "only showing top 3 rows\n",
            "\n"
          ]
        },
        {
          "output_type": "execute_result",
          "data": {
            "text/plain": [
              "18525500"
            ]
          },
          "metadata": {},
          "execution_count": 189
        }
      ]
    },
    {
      "cell_type": "markdown",
      "source": [
        "**(Q1) What are the titles of top 5 most popular movies i.e. have the most ranking in the whole dataset?**"
      ],
      "metadata": {
        "id": "YTE7i-v21hux"
      }
    },
    {
      "cell_type": "code",
      "source": [
        "movie_rating_count = rating_df.groupBy(\"MovieID\").count().orderBy(\"count\", ascending=False)\n",
        "popular_movie_count = movie_rating_count.withColumn(\"Rank#\", monotonically_increasing_id())\n",
        "popular_movies = popular_movie_count.join(movie_df, \"MovieID\").select(\n",
        "    \"Rank#\", \"count\", \"Title\")\n",
        "popular_movies.persist()"
      ],
      "metadata": {
        "colab": {
          "base_uri": "https://localhost:8080/"
        },
        "id": "OCZb8mXY1m95",
        "outputId": "9f8bec6f-69d2-44a8-97e1-0615b159103d"
      },
      "execution_count": 145,
      "outputs": [
        {
          "output_type": "execute_result",
          "data": {
            "text/plain": [
              "DataFrame[Rank#: bigint, count: bigint, Title: string]"
            ]
          },
          "metadata": {},
          "execution_count": 145
        }
      ]
    },
    {
      "cell_type": "code",
      "source": [
        "top_n_movie = 5\n",
        "popular_movies.show(top_n_movie)"
      ],
      "metadata": {
        "colab": {
          "base_uri": "https://localhost:8080/"
        },
        "id": "0Qesv9Xgq-3a",
        "outputId": "3676bdcd-cfbd-4526-b1b0-a3ebc73afc1e"
      },
      "execution_count": 148,
      "outputs": [
        {
          "output_type": "stream",
          "name": "stdout",
          "text": [
            "+-----+-----+--------------------+\n",
            "|Rank#|count|               Title|\n",
            "+-----+-----+--------------------+\n",
            "|    0|64716| Pulp Fiction (1994)|\n",
            "|    1|63998| Forrest Gump (1994)|\n",
            "|    2|62286|Silence of the La...|\n",
            "|    3|60661|Jurassic Park (1993)|\n",
            "|    4|57814|Shawshank Redempt...|\n",
            "+-----+-----+--------------------+\n",
            "only showing top 5 rows\n",
            "\n"
          ]
        }
      ]
    },
    {
      "cell_type": "markdown",
      "source": [
        "**(Q2) What are the top 5 ranked movie genres on average in the whole dataset?**"
      ],
      "metadata": {
        "id": "hs3V6dE6L2pl"
      }
    },
    {
      "cell_type": "code",
      "source": [
        "movie_avg_ratings = rating_df.groupBy(\"MovieID\").avg(\"Rating\")\n",
        "movie_avg_ratings = movie_avg_ratings.withColumnRenamed('avg(Rating)', 'movie_avg_rating')\n",
        "movie_avg_ratings.show(10)"
      ],
      "metadata": {
        "colab": {
          "base_uri": "https://localhost:8080/"
        },
        "id": "drPZpn05L5aC",
        "outputId": "daf31606-048e-4ec4-d7e0-6da0a90d2f3d"
      },
      "execution_count": 191,
      "outputs": [
        {
          "output_type": "stream",
          "name": "stdout",
          "text": [
            "+-------+-----------------+\n",
            "|MovieID| movie_avg_rating|\n",
            "+-------+-----------------+\n",
            "|  51209|              5.0|\n",
            "|  53355|              5.0|\n",
            "|  42783|              5.0|\n",
            "|  33264|              5.0|\n",
            "|  64275|              5.0|\n",
            "|  65001|             4.75|\n",
            "|   4454|             4.75|\n",
            "|  26048|             4.75|\n",
            "|  26073|             4.75|\n",
            "|   5194|4.714285714285714|\n",
            "|   5849|4.666666666666667|\n",
            "|  63808|4.666666666666667|\n",
            "|  32657|            4.625|\n",
            "|  53883|              4.5|\n",
            "|  60990|              4.5|\n",
            "|   7452|              4.5|\n",
            "|  63179|              4.5|\n",
            "|  64418|              4.5|\n",
            "|   3226|              4.5|\n",
            "|  58185|              4.5|\n",
            "+-------+-----------------+\n",
            "only showing top 20 rows\n",
            "\n"
          ]
        }
      ]
    },
    {
      "cell_type": "code",
      "source": [
        "movie_genres = movie_df.withColumn(\"genre_list\", split(col(\"Genres\"), \"\\|\"))\n",
        "movie_genres = movie_genres.withColumn(\"genre\", explode(col(\"genre_list\"))).select(\n",
        "    \"MovieID\", \"genre\")\n",
        "movie_genres.show(10)\n",
        "movie_genres.count()"
      ],
      "metadata": {
        "colab": {
          "base_uri": "https://localhost:8080/"
        },
        "id": "DKRs-ISiSmtc",
        "outputId": "c30e06e0-223e-4771-fa2c-613a075b6b67"
      },
      "execution_count": 192,
      "outputs": [
        {
          "output_type": "stream",
          "name": "stdout",
          "text": [
            "+-------+---------+\n",
            "|MovieID|    genre|\n",
            "+-------+---------+\n",
            "|      1|Adventure|\n",
            "|      1|Animation|\n",
            "|      1| Children|\n",
            "|      1|   Comedy|\n",
            "|      1|  Fantasy|\n",
            "|      2|Adventure|\n",
            "|      2| Children|\n",
            "|      2|  Fantasy|\n",
            "|      3|   Comedy|\n",
            "|      3|  Romance|\n",
            "+-------+---------+\n",
            "only showing top 10 rows\n",
            "\n"
          ]
        },
        {
          "output_type": "execute_result",
          "data": {
            "text/plain": [
              "21580"
            ]
          },
          "metadata": {},
          "execution_count": 192
        }
      ]
    },
    {
      "cell_type": "code",
      "source": [
        "movie_genres_rating = movie_genres.join(movie_avg_ratings,\"MovieID\")\n",
        "movie_genres_rating.show(10)\n",
        "movie_genres_rating.count()"
      ],
      "metadata": {
        "colab": {
          "base_uri": "https://localhost:8080/"
        },
        "id": "fpRLZN1ZhTCJ",
        "outputId": "5bc20a95-3dd2-410e-deb3-e674aa5a0de8"
      },
      "execution_count": 194,
      "outputs": [
        {
          "output_type": "stream",
          "name": "stdout",
          "text": [
            "+-------+---------+------------------+\n",
            "|MovieID|    genre|  movie_avg_rating|\n",
            "+-------+---------+------------------+\n",
            "|   1580|   Sci-Fi| 3.561991929352594|\n",
            "|   1580|   Comedy| 3.561991929352594|\n",
            "|   1580|   Action| 3.561991929352594|\n",
            "|   5300|  Western|  3.68732782369146|\n",
            "|   5300| Thriller|  3.68732782369146|\n",
            "|   5300|    Drama|  3.68732782369146|\n",
            "|   5300|Adventure|  3.68732782369146|\n",
            "|   5300|   Action|  3.68732782369146|\n",
            "|    471|  Romance|3.6608205953338695|\n",
            "|    471|  Fantasy|3.6608205953338695|\n",
            "+-------+---------+------------------+\n",
            "only showing top 10 rows\n",
            "\n"
          ]
        },
        {
          "output_type": "execute_result",
          "data": {
            "text/plain": [
              "21573"
            ]
          },
          "metadata": {},
          "execution_count": 194
        }
      ]
    },
    {
      "cell_type": "code",
      "source": [
        "genre_ratings = movie_genres_rating.groupBy(\"genre\").avg(\"movie_avg_rating\")\n",
        "genre_ratings = genre_ratings.withColumnRenamed('avg(movie_avg_rating)', 'genre_avg_rating')\n",
        "genre_ratings = genre_ratings.orderBy('genre_avg_rating', ascending = False)\n",
        "genre_ratings.cache()\n",
        "top_n_genre = 5\n",
        "genre_ratings.show(top_n_genre)"
      ],
      "metadata": {
        "colab": {
          "base_uri": "https://localhost:8080/"
        },
        "id": "Uqcz1xPIh634",
        "outputId": "d081af69-ff68-498d-e080-32da37bf9076"
      },
      "execution_count": 196,
      "outputs": [
        {
          "output_type": "stream",
          "name": "stdout",
          "text": [
            "+------------------+------------------+\n",
            "|             genre|  genre_avg_rating|\n",
            "+------------------+------------------+\n",
            "|         Film-Noir|3.7145568991978926|\n",
            "|(no genres listed)|3.4583333333333335|\n",
            "|       Documentary|3.4571269547082286|\n",
            "|               War|3.4529868830864836|\n",
            "|             Drama|3.3490765797551654|\n",
            "|           Mystery|3.3274023557458645|\n",
            "|           Western| 3.309819232484588|\n",
            "|           Romance|3.2996282169342153|\n",
            "|             Crime|  3.29887958387637|\n",
            "|              IMAX|3.2696978301234534|\n",
            "+------------------+------------------+\n",
            "only showing top 10 rows\n",
            "\n"
          ]
        }
      ]
    }
  ]
}