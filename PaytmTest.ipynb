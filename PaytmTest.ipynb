{
  "nbformat": 4,
  "nbformat_minor": 0,
  "metadata": {
    "colab": {
      "provenance": [],
      "authorship_tag": "ABX9TyP6XF4rXgyWKu2p5zhG5L2r",
      "include_colab_link": true
    },
    "kernelspec": {
      "name": "python3",
      "display_name": "Python 3"
    },
    "language_info": {
      "name": "python"
    }
  },
  "cells": [
    {
      "cell_type": "markdown",
      "metadata": {
        "id": "view-in-github",
        "colab_type": "text"
      },
      "source": [
        "<a href=\"https://colab.research.google.com/github/boffett/paytm_test/blob/main/PaytmTest.ipynb\" target=\"_parent\"><img src=\"https://colab.research.google.com/assets/colab-badge.svg\" alt=\"Open In Colab\"/></a>"
      ]
    },
    {
      "cell_type": "markdown",
      "source": [
        "**Following the requirements to build the solution as scalable as possible, I chose to implement it on PySpark.**"
      ],
      "metadata": {
        "id": "VjpgTrmPcArc"
      }
    },
    {
      "cell_type": "code",
      "source": [
        "!pip install pyspark"
      ],
      "metadata": {
        "id": "UUgu2Yut3nAq",
        "colab": {
          "base_uri": "https://localhost:8080/"
        },
        "outputId": "25c1ab2d-18ff-4d92-9e89-b42aac28512b"
      },
      "execution_count": 2,
      "outputs": [
        {
          "output_type": "stream",
          "name": "stdout",
          "text": [
            "Requirement already satisfied: pyspark in /usr/local/lib/python3.10/dist-packages (3.5.1)\n",
            "Requirement already satisfied: py4j==0.10.9.7 in /usr/local/lib/python3.10/dist-packages (from pyspark) (0.10.9.7)\n"
          ]
        }
      ]
    },
    {
      "cell_type": "markdown",
      "source": [
        "Import the required PySpark libraries."
      ],
      "metadata": {
        "id": "9fHk5Dlvd1N3"
      }
    },
    {
      "cell_type": "code",
      "source": [
        "from pyspark.sql import SparkSession, Window\n",
        "from pyspark.sql.functions import *\n",
        "from pyspark.mllib.recommendation import ALS"
      ],
      "metadata": {
        "id": "2AG7gJIQ-pf8"
      },
      "execution_count": 3,
      "outputs": []
    },
    {
      "cell_type": "markdown",
      "source": [
        "**First, read the data from the following files (movies.dat, ratings.dat) and reorganize/clean the data to be used in the model.**"
      ],
      "metadata": {
        "id": "r9xfJT0k0-8e"
      }
    },
    {
      "cell_type": "code",
      "source": [
        "# Set the path where the movies.dat and ratings.dat files are located\n",
        "path = \"/content/paytm_test/\"\n",
        "\n",
        "spark = SparkSession.builder.appName(\"PaytmTest\").getOrCreate()"
      ],
      "metadata": {
        "id": "6praYfHMDLcG"
      },
      "execution_count": 34,
      "outputs": []
    },
    {
      "cell_type": "markdown",
      "source": [
        "Load the movie dataset"
      ],
      "metadata": {
        "id": "qwpv442rk3aV"
      }
    },
    {
      "cell_type": "code",
      "source": [
        "# Load the data and convert it into the corresponding column field format.\n",
        "movie_df = spark.read.text(path + \"movies.dat\").select(\n",
        "    split(\"value\", \"::\").getItem(0).cast(\"integer\").alias(\"MovieID\"),\n",
        "    split(\"value\", \"::\").getItem(1).alias(\"Title\"),\n",
        "    split(\"value\", \"::\").getItem(2).alias(\"Genres\")\n",
        ")\n",
        "\n",
        "# Drop records with null values after importing.\n",
        "movie_df = movie_df.dropna()\n",
        "#movie_df.cache()\n",
        "movie_df.show(3)\n",
        "movie_df.count()"
      ],
      "metadata": {
        "id": "O6sZ-rd41ZBc",
        "colab": {
          "base_uri": "https://localhost:8080/"
        },
        "outputId": "264450ba-f772-4ed0-d24f-64544ac26b52"
      },
      "execution_count": 6,
      "outputs": [
        {
          "output_type": "stream",
          "name": "stdout",
          "text": [
            "+-------+--------------------+--------------------+\n",
            "|MovieID|               Title|              Genres|\n",
            "+-------+--------------------+--------------------+\n",
            "|      1|    Toy Story (1995)|Adventure|Animati...|\n",
            "|      2|      Jumanji (1995)|Adventure|Childre...|\n",
            "|      3|Grumpier Old Men ...|      Comedy|Romance|\n",
            "+-------+--------------------+--------------------+\n",
            "only showing top 3 rows\n",
            "\n"
          ]
        },
        {
          "output_type": "execute_result",
          "data": {
            "text/plain": [
              "10686"
            ]
          },
          "metadata": {},
          "execution_count": 6
        }
      ]
    },
    {
      "cell_type": "markdown",
      "source": [
        "Load the rating dataset"
      ],
      "metadata": {
        "id": "DbImK9D4mGCA"
      }
    },
    {
      "cell_type": "code",
      "source": [
        "# Load the data and convert it into the corresponding column field format.\n",
        "rating_df = spark.read.text(path + \"ratings.dat\").select(\n",
        "    split(\"value\", \"::\").getItem(0).cast(\"integer\").alias(\"UserID\"),\n",
        "    split(\"value\", \"::\").getItem(1).cast(\"integer\").alias(\"MovieID\"),\n",
        "    split(\"value\", \"::\").getItem(2).cast(\"float\").alias(\"Rating\"),\n",
        "    split(\"value\", \"::\").getItem(3).alias(\"Timestamp\")\n",
        ")\n",
        "\n",
        "# Drop records with null values after importing.\n",
        "rating_df = rating_df.dropna()\n",
        "\n",
        "# Filter out anomalous rating records.\n",
        "rating_df = rating_df.filter((rating_df.Rating >= 0) & (rating_df.Rating <= 5))\n",
        "\n",
        "# Convert Timestamp to date.\n",
        "rating_df = rating_df.withColumn(\"Date\", to_date(from_unixtime(\"Timestamp\")))\n",
        "rating_df = rating_df.drop(\"Timestamp\")\n",
        "#rating_df.cache()\n",
        "rating_df.show(3)\n",
        "rating_df.count()"
      ],
      "metadata": {
        "id": "QGRWEhUH1_Ye",
        "colab": {
          "base_uri": "https://localhost:8080/"
        },
        "outputId": "7f63bddc-e4d8-461f-ecf2-f5da6b011d60"
      },
      "execution_count": 7,
      "outputs": [
        {
          "output_type": "stream",
          "name": "stdout",
          "text": [
            "+------+-------+------+----------+\n",
            "|UserID|MovieID|Rating|      Date|\n",
            "+------+-------+------+----------+\n",
            "|     1|    122|   5.0|1996-08-02|\n",
            "|     1|    185|   5.0|1996-08-02|\n",
            "|     1|    231|   5.0|1996-08-02|\n",
            "+------+-------+------+----------+\n",
            "only showing top 3 rows\n",
            "\n"
          ]
        },
        {
          "output_type": "execute_result",
          "data": {
            "text/plain": [
              "10000032"
            ]
          },
          "metadata": {},
          "execution_count": 7
        }
      ]
    },
    {
      "cell_type": "markdown",
      "source": [
        "**(Q1) What are the titles of top 5 most popular movies i.e. have the most ranking in the whole dataset?**"
      ],
      "metadata": {
        "id": "YTE7i-v21hux"
      }
    },
    {
      "cell_type": "code",
      "source": [
        "# From the rating data, count the number of ratings for each movie,\n",
        "# and sort them in descending order based on this count.\n",
        "movie_rating_count = rating_df.groupBy(\"MovieID\").agg(\n",
        "    count(\"*\").alias(\"#Ratings\")).orderBy(\"#Ratings\", ascending=False)\n",
        "movie_rating_count = movie_rating_count.withColumn(\"Rank\", monotonically_increasing_id())\n",
        "\n",
        "# Add the title of each movie for easier display of results.\n",
        "popular_movies = movie_rating_count.join(movie_df, \"MovieID\").select(\n",
        "    \"Rank\", \"#Ratings\", \"Title\")\n",
        "#popular_movies.cache()"
      ],
      "metadata": {
        "id": "OCZb8mXY1m95"
      },
      "execution_count": 8,
      "outputs": []
    },
    {
      "cell_type": "code",
      "source": [
        "# Display the top n most popular movies with titles\n",
        "top_n_movie = 5\n",
        "popular_movies.show(top_n_movie)"
      ],
      "metadata": {
        "id": "0Qesv9Xgq-3a",
        "colab": {
          "base_uri": "https://localhost:8080/"
        },
        "outputId": "a221486f-8f87-40b9-ee0d-b40896937f1b"
      },
      "execution_count": 9,
      "outputs": [
        {
          "output_type": "stream",
          "name": "stdout",
          "text": [
            "+----+--------+--------------------+\n",
            "|Rank|#Ratings|               Title|\n",
            "+----+--------+--------------------+\n",
            "|   0|   34864| Pulp Fiction (1994)|\n",
            "|   1|   34457| Forrest Gump (1994)|\n",
            "|   2|   33668|Silence of the La...|\n",
            "|   3|   32631|Jurassic Park (1993)|\n",
            "|   4|   31126|Shawshank Redempt...|\n",
            "+----+--------+--------------------+\n",
            "only showing top 5 rows\n",
            "\n"
          ]
        }
      ]
    },
    {
      "cell_type": "markdown",
      "source": [
        "**(Q2) What are the top 5 ranked movie genres on average in the whole dataset?**"
      ],
      "metadata": {
        "id": "hs3V6dE6L2pl"
      }
    },
    {
      "cell_type": "code",
      "source": [
        "# First, calculate the average rating for each movie.\n",
        "movie_avg_ratings = rating_df.groupBy(\"MovieID\").agg(avg(\"Rating\").alias('Avg_Rating'))\n",
        "movie_avg_ratings.show(5)"
      ],
      "metadata": {
        "id": "drPZpn05L5aC",
        "colab": {
          "base_uri": "https://localhost:8080/"
        },
        "outputId": "e7634594-e2e2-4bef-bec4-c52724de5bd9"
      },
      "execution_count": 10,
      "outputs": [
        {
          "output_type": "stream",
          "name": "stdout",
          "text": [
            "+-------+------------------+\n",
            "|MovieID|        Avg_Rating|\n",
            "+-------+------------------+\n",
            "|   1580| 3.563920531231442|\n",
            "|   5300|3.7041884816753927|\n",
            "|    471| 3.659111243662392|\n",
            "|   1591| 2.591865858009276|\n",
            "|   3175|3.6245300142616363|\n",
            "+-------+------------------+\n",
            "only showing top 5 rows\n",
            "\n"
          ]
        }
      ]
    },
    {
      "cell_type": "code",
      "source": [
        "# Associate the average rating of the movies with their genre information.\n",
        "movie_genres_rating = movie_avg_ratings.join(movie_df,\"MovieID\").select(\n",
        "    \"MovieID\", \"Avg_Rating\", \"Genres\")\n",
        "movie_genres_rating.show(5)"
      ],
      "metadata": {
        "id": "fpRLZN1ZhTCJ",
        "colab": {
          "base_uri": "https://localhost:8080/"
        },
        "outputId": "791df557-00eb-4ef6-eb9f-e1643d0a8fe6"
      },
      "execution_count": 11,
      "outputs": [
        {
          "output_type": "stream",
          "name": "stdout",
          "text": [
            "+-------+------------------+--------------------+\n",
            "|MovieID|        Avg_Rating|              Genres|\n",
            "+-------+------------------+--------------------+\n",
            "|   1580| 3.563920531231442|Action|Comedy|Sci-Fi|\n",
            "|   5300|3.7041884816753927|Action|Adventure|...|\n",
            "|    471| 3.659111243662392|Comedy|Drama|Fant...|\n",
            "|   1591| 2.591865858009276|Action|Adventure|...|\n",
            "|   3175|3.6245300142616363|Adventure|Comedy|...|\n",
            "+-------+------------------+--------------------+\n",
            "only showing top 5 rows\n",
            "\n"
          ]
        }
      ]
    },
    {
      "cell_type": "code",
      "source": [
        "# Split the multiple genres of each movie and associate the ratings with each genre label.\n",
        "genre_ratings = movie_genres_rating.withColumn(\"Genre\", explode(\n",
        "    split(\"Genres\", \"\\|\"))).select(\"Genre\", \"Avg_Rating\")\n",
        "genre_ratings.show(5)"
      ],
      "metadata": {
        "id": "DKRs-ISiSmtc",
        "colab": {
          "base_uri": "https://localhost:8080/"
        },
        "outputId": "219195c2-a69e-4f7d-824c-8190676b5cc3"
      },
      "execution_count": 13,
      "outputs": [
        {
          "output_type": "stream",
          "name": "stdout",
          "text": [
            "+---------+------------------+\n",
            "|    Genre|        Avg_Rating|\n",
            "+---------+------------------+\n",
            "|   Action| 3.563920531231442|\n",
            "|   Comedy| 3.563920531231442|\n",
            "|   Sci-Fi| 3.563920531231442|\n",
            "|   Action|3.7041884816753927|\n",
            "|Adventure|3.7041884816753927|\n",
            "+---------+------------------+\n",
            "only showing top 5 rows\n",
            "\n"
          ]
        }
      ]
    },
    {
      "cell_type": "code",
      "source": [
        "# Calculate the average rating for each genre,\n",
        "# and sort them in descending order based on the average.\n",
        "genre_avg_rating = genre_ratings.groupBy(\"Genre\").agg(\n",
        "    avg(\"Avg_Rating\").alias('Avg_Rating'))\n",
        "genre_avg_rating = genre_avg_rating.orderBy('Avg_Rating', ascending = False)\n",
        "#genre_ratings.cache()\n",
        "#genre_ratings.count()"
      ],
      "metadata": {
        "id": "Uqcz1xPIh634"
      },
      "execution_count": 14,
      "outputs": []
    },
    {
      "cell_type": "code",
      "source": [
        "# Display the top n ranked movie genres on average\n",
        "top_n_genre = 5\n",
        "genre_avg_rating.show(top_n_genre)"
      ],
      "metadata": {
        "id": "bNjxqR_TyuHV",
        "colab": {
          "base_uri": "https://localhost:8080/"
        },
        "outputId": "a73a95f5-50f2-4fbd-9067-6206c12151e9"
      },
      "execution_count": 15,
      "outputs": [
        {
          "output_type": "stream",
          "name": "stdout",
          "text": [
            "+------------------+------------------+\n",
            "|             Genre|        Avg_Rating|\n",
            "+------------------+------------------+\n",
            "|         Film-Noir|3.7118715983793593|\n",
            "|(no genres listed)| 3.642857142857143|\n",
            "|       Documentary|3.4621763397993477|\n",
            "|               War| 3.454612791239219|\n",
            "|             Drama|3.3498928844848557|\n",
            "+------------------+------------------+\n",
            "only showing top 5 rows\n",
            "\n"
          ]
        }
      ]
    },
    {
      "cell_type": "markdown",
      "source": [
        "**(Q3) How many movies have been ranked the most consecutive days?**"
      ],
      "metadata": {
        "id": "gILJkeaNOEuI"
      }
    },
    {
      "cell_type": "code",
      "source": [
        "# First, extract the date of each movie rating from the rating data and remove duplicates.\n",
        "movie_rating_date = rating_df.select([\"MovieID\",\"Date\"]).drop_duplicates()\n",
        "movie_rating_date.show(10)\n",
        "#movie_rating_date.count()"
      ],
      "metadata": {
        "id": "W65JNMJ_OC-L",
        "colab": {
          "base_uri": "https://localhost:8080/"
        },
        "outputId": "21b90d12-c728-4298-d394-7182536823e4"
      },
      "execution_count": 16,
      "outputs": [
        {
          "output_type": "stream",
          "name": "stdout",
          "text": [
            "+-------+----------+\n",
            "|MovieID|      Date|\n",
            "+-------+----------+\n",
            "|    589|1996-08-02|\n",
            "|   1212|2003-04-11|\n",
            "|    208|2005-05-20|\n",
            "|    288|2005-03-23|\n",
            "|   1080|2005-05-12|\n",
            "|   1396|2005-03-24|\n",
            "|   2948|2005-05-12|\n",
            "|   2997|2005-03-24|\n",
            "|   3452|2005-03-24|\n",
            "|   5810|2005-05-12|\n",
            "+-------+----------+\n",
            "only showing top 10 rows\n",
            "\n"
          ]
        }
      ]
    },
    {
      "cell_type": "code",
      "source": [
        "# Sort the rating dates for each movie.\n",
        "winspec = Window.partitionBy(\"MovieID\").orderBy(\"Date\")\n",
        "\n",
        "# For each movie's rating dates, calculate the number of days difference from the previous date.\n",
        "movie_rating_date = movie_rating_date.withColumn(\"date_diff\",\n",
        "    datediff(\"Date\", lag(\"Date\", 1).over(winspec)))\n",
        "\n",
        "# Based on the date difference, if it is consecutive,\n",
        "# mark it as the same time window; otherwise, mark it as a new time window.\n",
        "movie_rating_date = movie_rating_date.withColumn(\"winID\",\n",
        "    sum(when(col(\"date_diff\") != 1, 1).otherwise(0)).over(\n",
        "        winspec.rowsBetween(Window.unboundedPreceding, 0)))\n",
        "movie_rating_date.show(10)"
      ],
      "metadata": {
        "id": "gW2WS-YUZ3CD",
        "colab": {
          "base_uri": "https://localhost:8080/"
        },
        "outputId": "8b50ca47-6318-46a6-b65d-bdeb811e6e83"
      },
      "execution_count": 17,
      "outputs": [
        {
          "output_type": "stream",
          "name": "stdout",
          "text": [
            "+-------+----------+---------+-----+\n",
            "|MovieID|      Date|date_diff|winID|\n",
            "+-------+----------+---------+-----+\n",
            "|      1|1996-01-29|     NULL|    0|\n",
            "|      1|1996-02-01|        3|    1|\n",
            "|      1|1996-02-02|        1|    1|\n",
            "|      1|1996-02-05|        3|    2|\n",
            "|      1|1996-02-12|        7|    3|\n",
            "|      1|1996-02-22|       10|    4|\n",
            "|      1|1996-02-23|        1|    4|\n",
            "|      1|1996-02-26|        3|    5|\n",
            "|      1|1996-03-04|        7|    6|\n",
            "|      1|1996-03-05|        1|    6|\n",
            "+-------+----------+---------+-----+\n",
            "only showing top 10 rows\n",
            "\n"
          ]
        }
      ]
    },
    {
      "cell_type": "code",
      "source": [
        "# Count the multiple time windows for each movie\n",
        "# to determine the consecutive days for each time window.\n",
        "movie_rated_days = movie_rating_date.groupBy(\"MovieID\", \"winID\").count()\n",
        "\n",
        "# Find the longest consecutive days for each movie.\n",
        "movie_rated_days = movie_rated_days.groupBy(\"MovieID\").agg(max(\"count\").alias(\"Max_Consecutive_Days\"))\n",
        "\n",
        "# Sort by the longest consecutive days in descending order.\n",
        "movie_rated_days = movie_rated_days.orderBy(\"Max_Consecutive_Days\", ascending=False)\n",
        "#movie_rated_days.cache()"
      ],
      "metadata": {
        "id": "X_Ds-kCGgiGq"
      },
      "execution_count": 18,
      "outputs": []
    },
    {
      "cell_type": "code",
      "source": [
        "# Display the top n most consecutive rated movies\n",
        "top_n_movie = 5\n",
        "movie_rated_days.show(top_n_movie)"
      ],
      "metadata": {
        "colab": {
          "base_uri": "https://localhost:8080/"
        },
        "id": "-IFb-sBXsR12",
        "outputId": "19b9d834-b417-4e80-cd9d-908e38240661"
      },
      "execution_count": 19,
      "outputs": [
        {
          "output_type": "stream",
          "name": "stdout",
          "text": [
            "+-------+--------------------+\n",
            "|MovieID|Max_Consecutive_Days|\n",
            "+-------+--------------------+\n",
            "|   5952|                 622|\n",
            "|   2858|                 485|\n",
            "|   4993|                 483|\n",
            "|    356|                 425|\n",
            "|   6377|                 425|\n",
            "+-------+--------------------+\n",
            "only showing top 5 rows\n",
            "\n"
          ]
        }
      ]
    },
    {
      "cell_type": "markdown",
      "source": [
        "**Second, split the data into test and training sets and create a recommender system.**"
      ],
      "metadata": {
        "id": "ZsSb3n7UKkYs"
      }
    },
    {
      "cell_type": "code",
      "source": [
        "# Split the rating data into training and testing datasets randomly in an 8:2 ratio.\n",
        "(train_df, test_df) = rating_df.randomSplit([0.8, 0.2])\n",
        "train_df.show(5)\n",
        "#train_df.count()"
      ],
      "metadata": {
        "id": "Siu6VD-0KmlN",
        "colab": {
          "base_uri": "https://localhost:8080/"
        },
        "outputId": "4f8e8335-828f-44f8-bbb8-a11c2562f32e"
      },
      "execution_count": 20,
      "outputs": [
        {
          "output_type": "stream",
          "name": "stdout",
          "text": [
            "+------+-------+------+----------+\n",
            "|UserID|MovieID|Rating|      Date|\n",
            "+------+-------+------+----------+\n",
            "|     1|    185|   5.0|1996-08-02|\n",
            "|     1|    231|   5.0|1996-08-02|\n",
            "|     1|    292|   5.0|1996-08-02|\n",
            "|     1|    316|   5.0|1996-08-02|\n",
            "|     1|    329|   5.0|1996-08-02|\n",
            "+------+-------+------+----------+\n",
            "only showing top 5 rows\n",
            "\n"
          ]
        }
      ]
    },
    {
      "cell_type": "code",
      "source": [
        "# Use the ALS algorithm in PySpark to generate a recommendation model.\n",
        "from pyspark.ml.recommendation import ALS\n",
        "als = ALS(\n",
        "    userCol=\"UserID\",\n",
        "    itemCol=\"MovieID\",\n",
        "    ratingCol=\"Rating\",\n",
        "    maxIter=10,\n",
        "    regParam=0.01,\n",
        "    nonnegative=True,\n",
        "    implicitPrefs=False,\n",
        "    coldStartStrategy=\"drop\"\n",
        ")\n",
        "model = als.fit(train_df)\n",
        "model.save(path + \"als.model\")"
      ],
      "metadata": {
        "id": "7y0avlDMV4U0"
      },
      "execution_count": 21,
      "outputs": []
    },
    {
      "cell_type": "markdown",
      "source": [
        "**(Q4) What are the top 5 recommended movies made to one user, e.g. , UserID = 122 (any user can be selected)**"
      ],
      "metadata": {
        "id": "vHxq6vR2YNiG"
      }
    },
    {
      "cell_type": "code",
      "source": [
        "# Define a recommendation service function that recommends new movies\n",
        "# not yet rated by the user, based on the user ID.\n",
        "\n",
        "def recommend_movies(model, user_id, num_movies, movie_df, rating_df):\n",
        "    users_df = spark.createDataFrame([(user_id,)], [\"UserID\"])\n",
        "\n",
        "    # Generate a surplus number of recommended movies to filter out those that have already been rated.\n",
        "    user_recs = model.recommendForUserSubset(users_df, num_movies * 3)  # 生成更多的推荐以便筛选\n",
        "\n",
        "    # explode the recommendated movie list\n",
        "    user_recs = user_recs.withColumn(\"rec_exp\", explode(\"recommendations\")).select('UserID', col(\"rec_exp.MovieID\"), col(\"rec_exp.rating\"))\n",
        "\n",
        "    # Retrieve the user's rating history.\n",
        "    user_rated_movies = rating_df.filter(col(\"UserID\") == user_id).select(\"MovieID\")\n",
        "\n",
        "    # Filter out movies that the user has already rated.\n",
        "    recommendations = user_recs.join(user_rated_movies, \"MovieID\", \"left_anti\")\n",
        "\n",
        "    # Order by the predicted rating in descending order and limit to the desired number of movies\n",
        "    recommendations = recommendations.join(movie_df, \"MovieID\").select(\n",
        "        \"UserID\", \"Title\", \"rating\").orderBy(desc(\"rating\")).limit(num_movies)\n",
        "\n",
        "    return recommendations"
      ],
      "metadata": {
        "id": "BEuihX-0bzx_"
      },
      "execution_count": 28,
      "outputs": []
    },
    {
      "cell_type": "code",
      "source": [
        "# Recommend n movies for a given UserID.\n",
        "user_id = 122\n",
        "num_movies = 5\n",
        "recommendations = recommend_movies(model, user_id, num_movies, movie_df, rating_df)\n",
        "recommendations.show(truncate=False)"
      ],
      "metadata": {
        "id": "O9zsa47xYPGM",
        "colab": {
          "base_uri": "https://localhost:8080/"
        },
        "outputId": "b001afda-994b-4b39-c988-ddede7ecf093"
      },
      "execution_count": 29,
      "outputs": [
        {
          "output_type": "stream",
          "name": "stdout",
          "text": [
            "+------+----------------------------------------------+---------+\n",
            "|UserID|Title                                         |rating   |\n",
            "+------+----------------------------------------------+---------+\n",
            "|122   |Mudge Boy, The (2003)                         |7.287633 |\n",
            "|122   |War Is Over, The (La Guerre Est Finie) (1966) |7.134191 |\n",
            "|122   |Sea Is Watching, The (Umi wa miteita) (2002)  |6.8065577|\n",
            "|122   |December 7th (1943)                           |6.765809 |\n",
            "|122   |Color of Pomegranates, The (Sayat Nova) (1968)|6.5478687|\n",
            "+------+----------------------------------------------+---------+\n",
            "\n"
          ]
        }
      ]
    },
    {
      "cell_type": "markdown",
      "source": [
        "**(Q5) What are the top 5 movies that are most frequently recommended by your model? (use training set)**"
      ],
      "metadata": {
        "id": "2sfDjEwjZudq"
      }
    },
    {
      "cell_type": "code",
      "source": [
        "# Generate the top 5 recommended movies for each user based on the model.\n",
        "user_recs = model.recommendForAllUsers(5)\n",
        "\n",
        "# Explode the recommended movie list.\n",
        "movie_recs = user_recs.withColumn(\"recommendations\",\n",
        "    explode(\"recommendations\")).select(col(\"recommendations.MovieID\"))\n",
        "# Count the number of recommendations for each movie and sort them in descending order\n",
        "movie_freq = movie_recs.groupBy(\"MovieID\").count().orderBy(desc(\"count\"))"
      ],
      "metadata": {
        "id": "ai_1EJBfnLnf"
      },
      "execution_count": 31,
      "outputs": []
    },
    {
      "cell_type": "code",
      "source": [
        "# Display the top 5 most recommended movies\n",
        "top_5_movies = movie_freq.limit(5)\n",
        "top_5_movies_with_titles = top_5_movies.join(movie_df, \"MovieID\").select(\"MovieID\", \"Title\", \"count\")\n",
        "top_5_movies_with_titles.orderBy(desc(\"count\")).show(truncate=False)"
      ],
      "metadata": {
        "colab": {
          "base_uri": "https://localhost:8080/"
        },
        "id": "NvUSyMHnziMD",
        "outputId": "403b0f64-f8d8-4561-8a00-dd2ed5693f77"
      },
      "execution_count": 32,
      "outputs": [
        {
          "output_type": "stream",
          "name": "stdout",
          "text": [
            "+-------+---------------------------------------------+-----+\n",
            "|MovieID|Title                                        |count|\n",
            "+-------+---------------------------------------------+-----+\n",
            "|8203   |War Is Over, The (La Guerre Est Finie) (1966)|35091|\n",
            "|26176  |Titicut Follies (1967)                       |24084|\n",
            "|63194  |Caótica Ana (2007)                           |14748|\n",
            "|32792  |Red Desert, The (Deserto rosso, Il) (1964)   |14406|\n",
            "|26699  |Close-Up (Nema-ye Nazdik) (1990)             |12975|\n",
            "+-------+---------------------------------------------+-----+\n",
            "\n"
          ]
        }
      ]
    },
    {
      "cell_type": "markdown",
      "source": [
        "**(Q6) Calculate the RMSE of your model for your test set.**"
      ],
      "metadata": {
        "id": "068f1zs5onxR"
      }
    },
    {
      "cell_type": "code",
      "source": [
        "from pyspark.ml.evaluation import RegressionEvaluator\n",
        "\n",
        "# Predict ratings on the test set.\n",
        "predict_test = model.transform(test_df)\n",
        "\n",
        "# Calculate the RMSE\n",
        "evaluator = RegressionEvaluator(metricName=\"rmse\", labelCol=\"Rating\", predictionCol=\"prediction\")\n",
        "rmse = evaluator.evaluate(predict_test)\n",
        "print(f\"RMSE on test data = {rmse}\")"
      ],
      "metadata": {
        "id": "FVBGbMsvopc8",
        "colab": {
          "base_uri": "https://localhost:8080/"
        },
        "outputId": "4e7ceaa0-2b8a-434a-9bc7-b998c59cb5e5"
      },
      "execution_count": 33,
      "outputs": [
        {
          "output_type": "stream",
          "name": "stdout",
          "text": [
            "RMSE on test data = 0.81123898688074\n"
          ]
        }
      ]
    }
  ]
}