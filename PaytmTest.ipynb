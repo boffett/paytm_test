{
  "nbformat": 4,
  "nbformat_minor": 0,
  "metadata": {
    "colab": {
      "provenance": [],
      "authorship_tag": "ABX9TyPchUcONRAcfCGVvNS0N9sh",
      "include_colab_link": true
    },
    "kernelspec": {
      "name": "python3",
      "display_name": "Python 3"
    },
    "language_info": {
      "name": "python"
    }
  },
  "cells": [
    {
      "cell_type": "markdown",
      "metadata": {
        "id": "view-in-github",
        "colab_type": "text"
      },
      "source": [
        "<a href=\"https://colab.research.google.com/github/boffett/paytm_test/blob/main/PaytmTest.ipynb\" target=\"_parent\"><img src=\"https://colab.research.google.com/assets/colab-badge.svg\" alt=\"Open In Colab\"/></a>"
      ]
    },
    {
      "cell_type": "code",
      "source": [
        "!pip install pyspark"
      ],
      "metadata": {
        "colab": {
          "base_uri": "https://localhost:8080/"
        },
        "id": "UUgu2Yut3nAq",
        "outputId": "f22ad292-f8f8-4d0f-f937-56301e067cc4"
      },
      "execution_count": 20,
      "outputs": [
        {
          "output_type": "stream",
          "name": "stdout",
          "text": [
            "Requirement already satisfied: pyspark in /usr/local/lib/python3.10/dist-packages (3.5.1)\n",
            "Requirement already satisfied: py4j==0.10.9.7 in /usr/local/lib/python3.10/dist-packages (from pyspark) (0.10.9.7)\n"
          ]
        }
      ]
    },
    {
      "cell_type": "code",
      "source": [
        "from pyspark.sql import SparkSession, Window\n",
        "from pyspark.sql.functions import *\n",
        "from pyspark.mllib.recommendation import ALS"
      ],
      "metadata": {
        "id": "2AG7gJIQ-pf8"
      },
      "execution_count": 21,
      "outputs": []
    },
    {
      "cell_type": "markdown",
      "source": [
        "**First, read the data from the following files (movies.dat, ratings.dat) and reorganize/clean the data to be used in the model.**"
      ],
      "metadata": {
        "id": "r9xfJT0k0-8e"
      }
    },
    {
      "cell_type": "code",
      "source": [
        "path = \"/content/paytm_test/\"\n",
        "spark = SparkSession.builder.appName(\"PaytmTest\").getOrCreate()"
      ],
      "metadata": {
        "id": "6praYfHMDLcG"
      },
      "execution_count": 22,
      "outputs": []
    },
    {
      "cell_type": "code",
      "source": [
        "movie_df = spark.read.text(path + \"movies.dat\").select(\n",
        "    split(\"value\", \"::\").getItem(0).cast(\"integer\").alias(\"MovieID\"),\n",
        "    split(\"value\", \"::\").getItem(1).alias(\"Title\"),\n",
        "    split(\"value\", \"::\").getItem(2).alias(\"Genres\")\n",
        ")\n",
        "movie_df = movie_df.dropna()\n",
        "#movie_df.cache()\n",
        "movie_df.show(3)\n",
        "movie_df.count()"
      ],
      "metadata": {
        "colab": {
          "base_uri": "https://localhost:8080/"
        },
        "id": "O6sZ-rd41ZBc",
        "outputId": "383a1755-a0af-418e-f3ae-d2abb105da79"
      },
      "execution_count": 41,
      "outputs": [
        {
          "output_type": "stream",
          "name": "stdout",
          "text": [
            "+-------+--------------------+--------------------+\n",
            "|MovieID|               Title|              Genres|\n",
            "+-------+--------------------+--------------------+\n",
            "|      1|    Toy Story (1995)|Adventure|Animati...|\n",
            "|      2|      Jumanji (1995)|Adventure|Childre...|\n",
            "|      3|Grumpier Old Men ...|      Comedy|Romance|\n",
            "+-------+--------------------+--------------------+\n",
            "only showing top 3 rows\n",
            "\n"
          ]
        },
        {
          "output_type": "execute_result",
          "data": {
            "text/plain": [
              "10686"
            ]
          },
          "metadata": {},
          "execution_count": 41
        }
      ]
    },
    {
      "cell_type": "code",
      "source": [
        "rating_df = spark.read.text(path + \"ratings.dat\").select(\n",
        "    split(\"value\", \"::\").getItem(0).cast(\"integer\").alias(\"UserID\"),\n",
        "    split(\"value\", \"::\").getItem(1).cast(\"integer\").alias(\"MovieID\"),\n",
        "    split(\"value\", \"::\").getItem(2).cast(\"float\").alias(\"Rating\"),\n",
        "    split(\"value\", \"::\").getItem(3).alias(\"Timestamp\")\n",
        ")\n",
        "rating_df = rating_df.dropna()\n",
        "rating_df = rating_df.filter((rating_df.Rating >= 0) & (rating_df.Rating <= 5))\n",
        "rating_df = rating_df.withColumn(\"Date\", to_date(from_unixtime(\"Timestamp\")))\n",
        "rating_df = rating_df.drop(\"Timestamp\")\n",
        "#rating_df.cache()\n",
        "rating_df.show(3)\n",
        "rating_df.count()"
      ],
      "metadata": {
        "colab": {
          "base_uri": "https://localhost:8080/"
        },
        "id": "QGRWEhUH1_Ye",
        "outputId": "05074fca-3b44-461b-eaf3-664209e66344"
      },
      "execution_count": 43,
      "outputs": [
        {
          "output_type": "stream",
          "name": "stdout",
          "text": [
            "+------+-------+------+----------+\n",
            "|UserID|MovieID|Rating|      Date|\n",
            "+------+-------+------+----------+\n",
            "|     1|    122|   5.0|1996-08-02|\n",
            "|     1|    185|   5.0|1996-08-02|\n",
            "|     1|    231|   5.0|1996-08-02|\n",
            "+------+-------+------+----------+\n",
            "only showing top 3 rows\n",
            "\n"
          ]
        },
        {
          "output_type": "execute_result",
          "data": {
            "text/plain": [
              "10000032"
            ]
          },
          "metadata": {},
          "execution_count": 43
        }
      ]
    },
    {
      "cell_type": "markdown",
      "source": [
        "**(Q1) What are the titles of top 5 most popular movies i.e. have the most ranking in the whole dataset?**"
      ],
      "metadata": {
        "id": "YTE7i-v21hux"
      }
    },
    {
      "cell_type": "code",
      "source": [
        "movie_rating_count = rating_df.groupBy(\"MovieID\").agg(\n",
        "    count(\"*\").alias(\"#Ratings\")).orderBy(\"#Ratings\", ascending=False)\n",
        "movie_rating_count = movie_rating_count.withColumn(\"Rank\", monotonically_increasing_id())\n",
        "popular_movies = movie_rating_count.join(movie_df, \"MovieID\").select(\n",
        "    \"Rank\", \"#Ratings\", \"Title\")\n",
        "#popular_movies.cache()"
      ],
      "metadata": {
        "id": "OCZb8mXY1m95"
      },
      "execution_count": 44,
      "outputs": []
    },
    {
      "cell_type": "code",
      "source": [
        "top_n_movie = 5\n",
        "popular_movies.show(top_n_movie)"
      ],
      "metadata": {
        "colab": {
          "base_uri": "https://localhost:8080/"
        },
        "id": "0Qesv9Xgq-3a",
        "outputId": "48661127-fb51-4df2-fd96-d0f6ace7a1d7"
      },
      "execution_count": 45,
      "outputs": [
        {
          "output_type": "stream",
          "name": "stdout",
          "text": [
            "+----+--------+--------------------+\n",
            "|Rank|#Ratings|               Title|\n",
            "+----+--------+--------------------+\n",
            "|   0|   34864| Pulp Fiction (1994)|\n",
            "|   1|   34457| Forrest Gump (1994)|\n",
            "|   2|   33668|Silence of the La...|\n",
            "|   3|   32631|Jurassic Park (1993)|\n",
            "|   4|   31126|Shawshank Redempt...|\n",
            "+----+--------+--------------------+\n",
            "only showing top 5 rows\n",
            "\n"
          ]
        }
      ]
    },
    {
      "cell_type": "markdown",
      "source": [
        "**(Q2) What are the top 5 ranked movie genres on average in the whole dataset?**"
      ],
      "metadata": {
        "id": "hs3V6dE6L2pl"
      }
    },
    {
      "cell_type": "code",
      "source": [
        "movie_avg_ratings = rating_df.groupBy(\"MovieID\").agg(avg(\"Rating\").alias('Avg_Rating'))\n",
        "movie_avg_ratings.show(10)"
      ],
      "metadata": {
        "colab": {
          "base_uri": "https://localhost:8080/"
        },
        "id": "drPZpn05L5aC",
        "outputId": "6471b744-8675-48bb-b0f2-2f3784a37b2c"
      },
      "execution_count": 46,
      "outputs": [
        {
          "output_type": "stream",
          "name": "stdout",
          "text": [
            "+-------+------------------+\n",
            "|MovieID|        Avg_Rating|\n",
            "+-------+------------------+\n",
            "|   1580| 3.563920531231442|\n",
            "|   5300|3.7041884816753927|\n",
            "|    471| 3.659111243662392|\n",
            "|   1591| 2.591865858009276|\n",
            "|   3175|3.6245300142616363|\n",
            "|   3997| 2.072898032200358|\n",
            "|   1959|3.6309438040345823|\n",
            "|   2366|3.6127175743964064|\n",
            "|   2866| 3.607728337236534|\n",
            "|   1088|3.1912112010796223|\n",
            "+-------+------------------+\n",
            "only showing top 10 rows\n",
            "\n"
          ]
        }
      ]
    },
    {
      "cell_type": "code",
      "source": [
        "movie_genres_rating = movie_avg_ratings.join(movie_df,\"MovieID\").select(\n",
        "    \"MovieID\", \"Avg_Rating\", \"Genres\")\n",
        "movie_genres_rating.show(10)\n",
        "#movie_genres_rating.count()"
      ],
      "metadata": {
        "colab": {
          "base_uri": "https://localhost:8080/"
        },
        "id": "fpRLZN1ZhTCJ",
        "outputId": "7b9c0c59-6b27-4d99-d966-ce66081404b9"
      },
      "execution_count": 49,
      "outputs": [
        {
          "output_type": "stream",
          "name": "stdout",
          "text": [
            "+-------+------------------+--------------------+\n",
            "|MovieID|        Avg_Rating|              Genres|\n",
            "+-------+------------------+--------------------+\n",
            "|   1580| 3.563920531231442|Action|Comedy|Sci-Fi|\n",
            "|   5300|3.7041884816753927|Action|Adventure|...|\n",
            "|    471| 3.659111243662392|Comedy|Drama|Fant...|\n",
            "|   1591| 2.591865858009276|Action|Adventure|...|\n",
            "|   3175|3.6245300142616363|Adventure|Comedy|...|\n",
            "|   3997| 2.072898032200358|   Adventure|Fantasy|\n",
            "|   1959|3.6309438040345823|       Drama|Romance|\n",
            "|   2366|3.6127175743964064|Action|Adventure|...|\n",
            "|   2866| 3.607728337236534|               Drama|\n",
            "|   1088|3.1912112010796223|Drama|Musical|Rom...|\n",
            "+-------+------------------+--------------------+\n",
            "only showing top 10 rows\n",
            "\n"
          ]
        }
      ]
    },
    {
      "cell_type": "code",
      "source": [
        "genre_ratings = movie_genres_rating.withColumn(\"Genre\", explode(\n",
        "    split(\"Genres\", \"\\|\"))).select(\"Genre\", \"Avg_Rating\")\n",
        "genre_ratings.show(10)\n",
        "#genre_ratings.count()"
      ],
      "metadata": {
        "colab": {
          "base_uri": "https://localhost:8080/"
        },
        "id": "DKRs-ISiSmtc",
        "outputId": "7c838738-1319-4bb8-c6cd-4ab75c16c735"
      },
      "execution_count": 50,
      "outputs": [
        {
          "output_type": "stream",
          "name": "stdout",
          "text": [
            "+---------+------------------+\n",
            "|    Genre|        Avg_Rating|\n",
            "+---------+------------------+\n",
            "|   Action| 3.563920531231442|\n",
            "|   Comedy| 3.563920531231442|\n",
            "|   Sci-Fi| 3.563920531231442|\n",
            "|   Action|3.7041884816753927|\n",
            "|Adventure|3.7041884816753927|\n",
            "|    Drama|3.7041884816753927|\n",
            "| Thriller|3.7041884816753927|\n",
            "|  Western|3.7041884816753927|\n",
            "|   Comedy| 3.659111243662392|\n",
            "|    Drama| 3.659111243662392|\n",
            "+---------+------------------+\n",
            "only showing top 10 rows\n",
            "\n"
          ]
        }
      ]
    },
    {
      "cell_type": "code",
      "source": [
        "genre_avg_rating = genre_ratings.groupBy(\"Genre\").agg(\n",
        "    avg(\"Avg_Rating\").alias('Avg_Rating'))\n",
        "genre_avg_rating = genre_avg_rating.orderBy('Avg_Rating', ascending = False)\n",
        "#genre_ratings.cache()\n",
        "#genre_ratings.count()"
      ],
      "metadata": {
        "id": "Uqcz1xPIh634"
      },
      "execution_count": 51,
      "outputs": []
    },
    {
      "cell_type": "code",
      "source": [
        "top_n_genre = 5\n",
        "genre_avg_rating.show(top_n_genre)"
      ],
      "metadata": {
        "colab": {
          "base_uri": "https://localhost:8080/"
        },
        "id": "bNjxqR_TyuHV",
        "outputId": "0386b66d-e70a-4013-9702-5455a4e9d4be"
      },
      "execution_count": 52,
      "outputs": [
        {
          "output_type": "stream",
          "name": "stdout",
          "text": [
            "+------------------+------------------+\n",
            "|             Genre|        Avg_Rating|\n",
            "+------------------+------------------+\n",
            "|         Film-Noir|3.7118715983793593|\n",
            "|(no genres listed)| 3.642857142857143|\n",
            "|       Documentary|3.4621763397993477|\n",
            "|               War| 3.454612791239219|\n",
            "|             Drama|3.3498928844848557|\n",
            "+------------------+------------------+\n",
            "only showing top 5 rows\n",
            "\n"
          ]
        }
      ]
    },
    {
      "cell_type": "markdown",
      "source": [
        "**(Q3) How many movies have been ranked the most consecutive days?**"
      ],
      "metadata": {
        "id": "gILJkeaNOEuI"
      }
    },
    {
      "cell_type": "code",
      "source": [
        "movie_rating_date = rating_df.select([\"MovieID\",\"Date\"]).drop_duplicates()\n",
        "movie_rating_date.show(10)\n",
        "#movie_rating_date.count()"
      ],
      "metadata": {
        "colab": {
          "base_uri": "https://localhost:8080/"
        },
        "id": "W65JNMJ_OC-L",
        "outputId": "43a74cc2-433c-415b-d7ab-834eaaae610a"
      },
      "execution_count": 53,
      "outputs": [
        {
          "output_type": "stream",
          "name": "stdout",
          "text": [
            "+-------+----------+\n",
            "|MovieID|      Date|\n",
            "+-------+----------+\n",
            "|    589|1996-08-02|\n",
            "|   1212|2003-04-11|\n",
            "|    208|2005-05-20|\n",
            "|    288|2005-03-23|\n",
            "|   1080|2005-05-12|\n",
            "|   1396|2005-03-24|\n",
            "|   2948|2005-05-12|\n",
            "|   2997|2005-03-24|\n",
            "|   3452|2005-03-24|\n",
            "|   5810|2005-05-12|\n",
            "+-------+----------+\n",
            "only showing top 10 rows\n",
            "\n"
          ]
        }
      ]
    },
    {
      "cell_type": "code",
      "source": [
        "winspec = Window.partitionBy(\"MovieID\").orderBy(\"Date\")\n",
        "movie_rating_date = movie_rating_date.withColumn(\"date_diff\",\n",
        "    datediff(\"Date\", lag(\"Date\", 1).over(winspec)))\n",
        "movie_rating_date = movie_rating_date.withColumn(\"winID\",\n",
        "    sum(when(col(\"date_diff\") != 1, 1).otherwise(0)).over(\n",
        "        winspec.rowsBetween(Window.unboundedPreceding, 0)))\n",
        "movie_rating_date.show(10)"
      ],
      "metadata": {
        "colab": {
          "base_uri": "https://localhost:8080/"
        },
        "id": "gW2WS-YUZ3CD",
        "outputId": "dada9bc9-d4af-41eb-bae5-f714660ad3b3"
      },
      "execution_count": 54,
      "outputs": [
        {
          "output_type": "stream",
          "name": "stdout",
          "text": [
            "+-------+----------+---------+-----+\n",
            "|MovieID|      Date|date_diff|winID|\n",
            "+-------+----------+---------+-----+\n",
            "|      1|1996-01-29|     NULL|    0|\n",
            "|      1|1996-02-01|        3|    1|\n",
            "|      1|1996-02-02|        1|    1|\n",
            "|      1|1996-02-05|        3|    2|\n",
            "|      1|1996-02-12|        7|    3|\n",
            "|      1|1996-02-22|       10|    4|\n",
            "|      1|1996-02-23|        1|    4|\n",
            "|      1|1996-02-26|        3|    5|\n",
            "|      1|1996-03-04|        7|    6|\n",
            "|      1|1996-03-05|        1|    6|\n",
            "+-------+----------+---------+-----+\n",
            "only showing top 10 rows\n",
            "\n"
          ]
        }
      ]
    },
    {
      "cell_type": "code",
      "source": [
        "movie_rated_days = movie_rating_date.groupBy(\"MovieID\", \"winID\").count()\n",
        "movie_rated_days = movie_rated_days.groupBy(\"MovieID\").agg(max(\"count\").alias(\"Max_Consecutive_Days\"))\n",
        "movie_rated_days = movie_rated_days.orderBy(\"Max_Consecutive_Days\", ascending=False)\n",
        "#movie_rated_days.cache()\n",
        "movie_rated_days.show(10)"
      ],
      "metadata": {
        "id": "X_Ds-kCGgiGq",
        "colab": {
          "base_uri": "https://localhost:8080/"
        },
        "outputId": "7350d744-d9be-4f9c-f991-9ed57606aec5"
      },
      "execution_count": 55,
      "outputs": [
        {
          "output_type": "stream",
          "name": "stdout",
          "text": [
            "+-------+--------------------+\n",
            "|MovieID|Max_Consecutive_Days|\n",
            "+-------+--------------------+\n",
            "|   5952|                 622|\n",
            "|   2858|                 485|\n",
            "|   4993|                 483|\n",
            "|    356|                 425|\n",
            "|   6377|                 425|\n",
            "|   2571|                 364|\n",
            "|   2762|                 362|\n",
            "|   1270|                 327|\n",
            "|    593|                 317|\n",
            "|   3578|                 307|\n",
            "+-------+--------------------+\n",
            "only showing top 10 rows\n",
            "\n"
          ]
        }
      ]
    },
    {
      "cell_type": "markdown",
      "source": [
        "**Second, split the data into test and training sets and create a recommender system.**"
      ],
      "metadata": {
        "id": "ZsSb3n7UKkYs"
      }
    },
    {
      "cell_type": "code",
      "source": [
        "(train_df, test_df) = rating_df.randomSplit([0.8, 0.2])\n",
        "train_df.show(5)\n",
        "#train_df.count()"
      ],
      "metadata": {
        "colab": {
          "base_uri": "https://localhost:8080/"
        },
        "id": "Siu6VD-0KmlN",
        "outputId": "d3ab8f64-c7d6-46e3-966b-a28277f9ad1a"
      },
      "execution_count": 56,
      "outputs": [
        {
          "output_type": "stream",
          "name": "stdout",
          "text": [
            "+------+-------+------+----------+\n",
            "|UserID|MovieID|Rating|      Date|\n",
            "+------+-------+------+----------+\n",
            "|     1|    122|   5.0|1996-08-02|\n",
            "|     1|    231|   5.0|1996-08-02|\n",
            "|     1|    292|   5.0|1996-08-02|\n",
            "|     1|    316|   5.0|1996-08-02|\n",
            "|     1|    329|   5.0|1996-08-02|\n",
            "+------+-------+------+----------+\n",
            "only showing top 5 rows\n",
            "\n"
          ]
        },
        {
          "output_type": "execute_result",
          "data": {
            "text/plain": [
              "8000861"
            ]
          },
          "metadata": {},
          "execution_count": 56
        }
      ]
    },
    {
      "cell_type": "code",
      "source": [
        "from pyspark.ml.recommendation import ALS\n",
        "als = ALS(\n",
        "    userCol=\"UserID\",\n",
        "    itemCol=\"MovieID\",\n",
        "    ratingCol=\"Rating\",\n",
        "    maxIter=10,\n",
        "    regParam=0.01,\n",
        "    nonnegative=True,\n",
        "    implicitPrefs=False,\n",
        "    coldStartStrategy=\"drop\"\n",
        ")\n",
        "model = als.fit(train_df)\n",
        "model.save(path + \"als.model\")"
      ],
      "metadata": {
        "id": "7y0avlDMV4U0"
      },
      "execution_count": 58,
      "outputs": []
    },
    {
      "cell_type": "markdown",
      "source": [
        "**(Q4) What are the top 5 recommended movies made to one user, e.g. , UserID = 122 (any user can be selected)**"
      ],
      "metadata": {
        "id": "vHxq6vR2YNiG"
      }
    },
    {
      "cell_type": "code",
      "source": [
        "def recommend_movies_for_user(model, user_id, num_movies, movie_df):\n",
        "    # 为指定的用户ID创建一个DataFrame\n",
        "    users_df = spark.createDataFrame([(user_id,)], [\"UserID\"])\n",
        "\n",
        "    # 使用模型为用户生成推荐\n",
        "    user_recs = model.recommendForUserSubset(users_df, num_movies)\n",
        "\n",
        "    # 展开推荐结果\n",
        "    user_recs = user_recs.withColumn(\"rec_exp\", explode(\"recommendations\")).select('UserID', col(\"rec_exp.MovieID\"), col(\"rec_exp.rating\"))\n",
        "\n",
        "    # 连接电影数据集以获取电影标题\n",
        "    movie_details = user_recs.join(movie_df, user_recs.MovieID == movie_df.MovieID).select(user_recs.UserID, movie_df.Title, user_recs.rating)\n",
        "\n",
        "    return movie_details"
      ],
      "metadata": {
        "id": "BEuihX-0bzx_"
      },
      "execution_count": null,
      "outputs": []
    },
    {
      "cell_type": "code",
      "source": [
        "user_id = 122\n",
        "top_n_rec = 5\n",
        "user_recs = model.recommendForUserSubset(\n",
        "    rating_df.filter(col(\"UserID\") == user_id), top_n_rec)\n",
        "user_recs.show(truncate=False)"
      ],
      "metadata": {
        "colab": {
          "base_uri": "https://localhost:8080/"
        },
        "id": "O9zsa47xYPGM",
        "outputId": "24239b20-0aac-464d-c4f5-01a0ef94c3e5"
      },
      "execution_count": 59,
      "outputs": [
        {
          "output_type": "stream",
          "name": "stdout",
          "text": [
            "+------+--------------------------------------------------------------------------------------------------+\n",
            "|UserID|recommendations                                                                                   |\n",
            "+------+--------------------------------------------------------------------------------------------------+\n",
            "|122   |[{32657, 5.728113}, {4454, 5.4159226}, {33264, 5.3966208}, {64275, 5.3798594}, {53355, 5.2210445}]|\n",
            "+------+--------------------------------------------------------------------------------------------------+\n",
            "\n"
          ]
        }
      ]
    },
    {
      "cell_type": "markdown",
      "source": [
        "**(Q5) What are the top 5 movies that are most frequently recommended by your model? (use training set)**"
      ],
      "metadata": {
        "id": "2sfDjEwjZudq"
      }
    },
    {
      "cell_type": "code",
      "source": [
        "user_recs = model.recommendForAllUsers(5)\n",
        "movie_recs = user_recs.withColumn(\"recommendations\",\n",
        "    explode(\"recommendations\")).select(col(\"recommendations.MovieID\"))\n",
        "movie_freq = movie_recs.groupBy(\"MovieID\").count().orderBy(desc(\"count\"))\n",
        "top_5_movies = movie_freq.limit(5)\n",
        "top_5_movies_with_titles = top_5_movies.join(movie_df, \"MovieID\").select(\"MovieID\", \"Title\", \"count\")\n",
        "top_5_movies_with_titles.orderBy(desc(\"count\")).show(truncate=False)"
      ],
      "metadata": {
        "colab": {
          "base_uri": "https://localhost:8080/"
        },
        "id": "ai_1EJBfnLnf",
        "outputId": "6c9a3be6-93fb-474f-eb55-da6151d3b6dc"
      },
      "execution_count": 63,
      "outputs": [
        {
          "output_type": "stream",
          "name": "stdout",
          "text": [
            "+-------+---------------------------------------------------------------------+-----+\n",
            "|MovieID|Title                                                                |count|\n",
            "+-------+---------------------------------------------------------------------+-----+\n",
            "|32657  |Man Who Planted Trees, The (Homme qui plantait des arbres, L') (1987)|63331|\n",
            "|4454   |More (1998)                                                          |40566|\n",
            "|33264  |Satan's Tango (Sátántangó) (1994)                                    |34676|\n",
            "|64275  |Blue Light, The (Das Blaue Licht) (1932)                             |21981|\n",
            "|61037  |Silent Light (Stellet licht) (2007)                                  |18564|\n",
            "+-------+---------------------------------------------------------------------+-----+\n",
            "\n"
          ]
        }
      ]
    },
    {
      "cell_type": "markdown",
      "source": [
        "**(Q6) Calculate the RMSE of your model for your test set.**"
      ],
      "metadata": {
        "id": "068f1zs5onxR"
      }
    },
    {
      "cell_type": "code",
      "source": [
        "from pyspark.ml.evaluation import RegressionEvaluator\n",
        "predict_test = model.transform(test_df)\n",
        "evaluator = RegressionEvaluator(metricName=\"rmse\", labelCol=\"Rating\", predictionCol=\"prediction\")\n",
        "rmse = evaluator.evaluate(predict_test)\n",
        "print(f\"Root Mean Square Error (RMSE) on test data = {rmse}\")"
      ],
      "metadata": {
        "colab": {
          "base_uri": "https://localhost:8080/"
        },
        "id": "FVBGbMsvopc8",
        "outputId": "40ddcf29-a15f-4766-b1c0-6a210aaa1ad8"
      },
      "execution_count": 64,
      "outputs": [
        {
          "output_type": "stream",
          "name": "stdout",
          "text": [
            "Root Mean Square Error (RMSE) on test data = 0.8239066614293313\n"
          ]
        }
      ]
    }
  ]
}