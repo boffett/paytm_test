{
  "nbformat": 4,
  "nbformat_minor": 0,
  "metadata": {
    "colab": {
      "provenance": [],
      "authorship_tag": "ABX9TyPYrKFXyGXYdf61MDUYnxGe",
      "include_colab_link": true
    },
    "kernelspec": {
      "name": "python3",
      "display_name": "Python 3"
    },
    "language_info": {
      "name": "python"
    }
  },
  "cells": [
    {
      "cell_type": "markdown",
      "metadata": {
        "id": "view-in-github",
        "colab_type": "text"
      },
      "source": [
        "<a href=\"https://colab.research.google.com/github/boffett/paytm_test/blob/main/PaytmTest.ipynb\" target=\"_parent\"><img src=\"https://colab.research.google.com/assets/colab-badge.svg\" alt=\"Open In Colab\"/></a>"
      ]
    },
    {
      "cell_type": "code",
      "source": [
        "!pip install pyspark"
      ],
      "metadata": {
        "colab": {
          "base_uri": "https://localhost:8080/"
        },
        "id": "UUgu2Yut3nAq",
        "outputId": "c30e853b-dad7-4557-978e-5ba8f654cceb"
      },
      "execution_count": 13,
      "outputs": [
        {
          "output_type": "stream",
          "name": "stdout",
          "text": [
            "Requirement already satisfied: pyspark in /usr/local/lib/python3.10/dist-packages (3.5.1)\n",
            "Requirement already satisfied: py4j==0.10.9.7 in /usr/local/lib/python3.10/dist-packages (from pyspark) (0.10.9.7)\n"
          ]
        }
      ]
    },
    {
      "cell_type": "code",
      "source": [
        "from pyspark.sql import SparkSession, Window\n",
        "from pyspark.sql.functions import *\n",
        "from pyspark.sql.types import StructType, StructField, StringType, IntegerType, BooleanType, DateType, FloatType\n",
        "from pyspark.mllib.recommendation import ALS, MatrixFactorizationModel, Rating"
      ],
      "metadata": {
        "id": "2AG7gJIQ-pf8"
      },
      "execution_count": 37,
      "outputs": []
    },
    {
      "cell_type": "code",
      "source": [
        "path = \"/content/paytm_test/\"\n",
        "spark = SparkSession.builder.getOrCreate()\n",
        "sc = spark.sparkContext"
      ],
      "metadata": {
        "id": "6praYfHMDLcG"
      },
      "execution_count": 15,
      "outputs": []
    },
    {
      "cell_type": "code",
      "source": [
        "movie_schema = StructType([\n",
        "    StructField(\"MovieID\", IntegerType(), True),\n",
        "    StructField(\"Title\", StringType(), True),\n",
        "    StructField(\"Genres\", StringType(), True)\n",
        "])\n",
        "\n",
        "movie_df = spark.read.csv(path + \"movies.dat\", sep=\"::\", header=False,\n",
        "        schema=movie_schema, mode='DROPMALFORMED')\n",
        "movie_df = movie_df.dropna()\n",
        "movie_df.cache()\n",
        "movie_df.show(3)\n",
        "movie_df.count()"
      ],
      "metadata": {
        "id": "3xSDKkOw_O-a",
        "colab": {
          "base_uri": "https://localhost:8080/"
        },
        "outputId": "0b1e77b8-8bf7-4571-e020-a6b3c896af15"
      },
      "execution_count": 68,
      "outputs": [
        {
          "output_type": "stream",
          "name": "stdout",
          "text": [
            "+-------+--------------------+--------------------+\n",
            "|MovieID|               Title|              Genres|\n",
            "+-------+--------------------+--------------------+\n",
            "|      1|    Toy Story (1995)|Adventure|Animati...|\n",
            "|      2|      Jumanji (1995)|Adventure|Childre...|\n",
            "|      3|Grumpier Old Men ...|      Comedy|Romance|\n",
            "+-------+--------------------+--------------------+\n",
            "only showing top 3 rows\n",
            "\n"
          ]
        },
        {
          "output_type": "execute_result",
          "data": {
            "text/plain": [
              "10684"
            ]
          },
          "metadata": {},
          "execution_count": 68
        }
      ]
    },
    {
      "cell_type": "code",
      "source": [
        "rating_schema = StructType([\n",
        "    StructField(\"UserID\", IntegerType(), True),\n",
        "    StructField(\"MovieID\", IntegerType(), True),\n",
        "    StructField(\"Rating\", FloatType(), True),\n",
        "    StructField(\"Timestamp\", IntegerType(), True)\n",
        "])\n",
        "\n",
        "rating_df = spark.read.csv(path + \"ratings.dat\", sep=\"::\", header=False, schema=rating_schema, mode='DROPMALFORMED')\n",
        "rating_df = rating_df.dropna()\n",
        "rating_df = rating_df.filter((rating_df.Rating >= 0) & (rating_df.Rating <= 5))\n",
        "rating_df = rating_df.withColumn(\"Date\", to_date(from_unixtime(\"Timestamp\", \"yyyy-MM-dd HH:mm:ss\")))\n",
        "rating_df.cache()\n",
        "rating_df.show(3)\n",
        "rating_df.count()"
      ],
      "metadata": {
        "colab": {
          "base_uri": "https://localhost:8080/"
        },
        "id": "DeQOotmpjmi7",
        "outputId": "5e0abcba-c37e-4641-e8d5-80c0134e1599"
      },
      "execution_count": 69,
      "outputs": [
        {
          "output_type": "stream",
          "name": "stdout",
          "text": [
            "+------+-------+------+---------+----------+\n",
            "|UserID|MovieID|Rating|Timestamp|      Date|\n",
            "+------+-------+------+---------+----------+\n",
            "|     1|    122|   5.0|838985046|1996-08-02|\n",
            "|     1|    185|   5.0|838983525|1996-08-02|\n",
            "|     1|    231|   5.0|838983392|1996-08-02|\n",
            "+------+-------+------+---------+----------+\n",
            "only showing top 3 rows\n",
            "\n"
          ]
        },
        {
          "output_type": "execute_result",
          "data": {
            "text/plain": [
              "10000032"
            ]
          },
          "metadata": {},
          "execution_count": 69
        }
      ]
    },
    {
      "cell_type": "markdown",
      "source": [
        "**(Q1) What are the titles of top 5 most popular movies i.e. have the most ranking in the whole dataset?**"
      ],
      "metadata": {
        "id": "YTE7i-v21hux"
      }
    },
    {
      "cell_type": "code",
      "source": [
        "movie_rating_count = rating_df.groupBy(\"MovieID\").agg(\n",
        "    count(\"*\").alias(\"#Ratings\")).orderBy(\"#Ratings\", ascending=False)\n",
        "movie_rating_count = movie_rating_count.withColumn(\"Rank\", monotonically_increasing_id())\n",
        "popular_movies = movie_rating_count.join(movie_df, \"MovieID\").select(\n",
        "    \"Rank\", \"#Ratings\", \"Title\")\n",
        "popular_movies.cache()"
      ],
      "metadata": {
        "colab": {
          "base_uri": "https://localhost:8080/"
        },
        "id": "OCZb8mXY1m95",
        "outputId": "444ecb37-a588-4b96-db7d-54994aba6dce"
      },
      "execution_count": 78,
      "outputs": [
        {
          "output_type": "execute_result",
          "data": {
            "text/plain": [
              "DataFrame[Rank: bigint, #Ratings: bigint, Title: string]"
            ]
          },
          "metadata": {},
          "execution_count": 78
        }
      ]
    },
    {
      "cell_type": "code",
      "source": [
        "top_n_movie = 5\n",
        "popular_movies.show(top_n_movie)"
      ],
      "metadata": {
        "colab": {
          "base_uri": "https://localhost:8080/"
        },
        "id": "0Qesv9Xgq-3a",
        "outputId": "28758a00-3fb0-4d77-83a0-59d23e13e2de"
      },
      "execution_count": 79,
      "outputs": [
        {
          "output_type": "stream",
          "name": "stdout",
          "text": [
            "+----+--------+--------------------+\n",
            "|Rank|#Ratings|               Title|\n",
            "+----+--------+--------------------+\n",
            "|   0|   34864| Pulp Fiction (1994)|\n",
            "|   1|   34457| Forrest Gump (1994)|\n",
            "|   2|   33668|Silence of the La...|\n",
            "|   3|   32631|Jurassic Park (1993)|\n",
            "|   4|   31126|Shawshank Redempt...|\n",
            "+----+--------+--------------------+\n",
            "only showing top 5 rows\n",
            "\n"
          ]
        }
      ]
    },
    {
      "cell_type": "markdown",
      "source": [
        "**(Q2) What are the top 5 ranked movie genres on average in the whole dataset?**"
      ],
      "metadata": {
        "id": "hs3V6dE6L2pl"
      }
    },
    {
      "cell_type": "code",
      "source": [
        "movie_avg_ratings = rating_df.groupBy(\"MovieID\").agg(avg(\"Rating\").alias('Avg_Rating'))\n",
        "movie_avg_ratings.show(10)"
      ],
      "metadata": {
        "colab": {
          "base_uri": "https://localhost:8080/"
        },
        "id": "drPZpn05L5aC",
        "outputId": "bb11b988-9263-4cf2-d7ef-c505bb1f0e70"
      },
      "execution_count": 81,
      "outputs": [
        {
          "output_type": "stream",
          "name": "stdout",
          "text": [
            "+-------+------------------+\n",
            "|MovieID|        Avg_Rating|\n",
            "+-------+------------------+\n",
            "|   1580| 3.563920531231442|\n",
            "|   5300|3.7041884816753927|\n",
            "|    471| 3.659111243662392|\n",
            "|   1591| 2.591865858009276|\n",
            "|   3175|3.6245300142616363|\n",
            "|   3997| 2.072898032200358|\n",
            "|   1959|3.6309438040345823|\n",
            "|   2366|3.6127175743964064|\n",
            "|   2866| 3.607728337236534|\n",
            "|   1088|3.1912112010796223|\n",
            "+-------+------------------+\n",
            "only showing top 10 rows\n",
            "\n"
          ]
        }
      ]
    },
    {
      "cell_type": "code",
      "source": [
        "movie_genres = movie_df.withColumn(\"Genre\", explode(\n",
        "    split(\"Genres\", \"\\|\"))).select(\"MovieID\", \"Genre\")\n",
        "movie_genres.show(10)\n",
        "movie_genres.count()"
      ],
      "metadata": {
        "colab": {
          "base_uri": "https://localhost:8080/"
        },
        "id": "DKRs-ISiSmtc",
        "outputId": "42b5cb66-6e86-4dc6-8463-3de1110ff628"
      },
      "execution_count": 83,
      "outputs": [
        {
          "output_type": "stream",
          "name": "stdout",
          "text": [
            "+-------+---------+\n",
            "|MovieID|    Genre|\n",
            "+-------+---------+\n",
            "|      1|Adventure|\n",
            "|      1|Animation|\n",
            "|      1| Children|\n",
            "|      1|   Comedy|\n",
            "|      1|  Fantasy|\n",
            "|      2|Adventure|\n",
            "|      2| Children|\n",
            "|      2|  Fantasy|\n",
            "|      3|   Comedy|\n",
            "|      3|  Romance|\n",
            "+-------+---------+\n",
            "only showing top 10 rows\n",
            "\n"
          ]
        },
        {
          "output_type": "execute_result",
          "data": {
            "text/plain": [
              "21580"
            ]
          },
          "metadata": {},
          "execution_count": 83
        }
      ]
    },
    {
      "cell_type": "code",
      "source": [
        "movie_genres_rating = movie_genres.join(movie_avg_ratings,\"MovieID\")\n",
        "movie_genres_rating.show(10)\n",
        "movie_genres_rating.count()"
      ],
      "metadata": {
        "colab": {
          "base_uri": "https://localhost:8080/"
        },
        "id": "fpRLZN1ZhTCJ",
        "outputId": "64c7afce-a1c6-42bf-ebb6-26bb755afebd"
      },
      "execution_count": 84,
      "outputs": [
        {
          "output_type": "stream",
          "name": "stdout",
          "text": [
            "+-------+---------+------------------+\n",
            "|MovieID|    Genre|        Avg_Rating|\n",
            "+-------+---------+------------------+\n",
            "|   1580|   Sci-Fi| 3.563920531231442|\n",
            "|   1580|   Comedy| 3.563920531231442|\n",
            "|   1580|   Action| 3.563920531231442|\n",
            "|   5300|  Western|3.7041884816753927|\n",
            "|   5300| Thriller|3.7041884816753927|\n",
            "|   5300|    Drama|3.7041884816753927|\n",
            "|   5300|Adventure|3.7041884816753927|\n",
            "|   5300|   Action|3.7041884816753927|\n",
            "|    471|  Romance| 3.659111243662392|\n",
            "|    471|  Fantasy| 3.659111243662392|\n",
            "+-------+---------+------------------+\n",
            "only showing top 10 rows\n",
            "\n"
          ]
        },
        {
          "output_type": "execute_result",
          "data": {
            "text/plain": [
              "21573"
            ]
          },
          "metadata": {},
          "execution_count": 84
        }
      ]
    },
    {
      "cell_type": "code",
      "source": [
        "genre_ratings = movie_genres_rating.groupBy(\"Genre\").agg(\n",
        "    avg(\"Avg_Rating\").alias('Avg_Rating'))\n",
        "genre_ratings = genre_ratings.orderBy('Avg_Rating', ascending = False)\n",
        "genre_ratings.cache()\n",
        "genre_ratings.count()"
      ],
      "metadata": {
        "colab": {
          "base_uri": "https://localhost:8080/"
        },
        "id": "Uqcz1xPIh634",
        "outputId": "c743da85-e808-42a2-8854-245e0555a2a7"
      },
      "execution_count": 88,
      "outputs": [
        {
          "output_type": "execute_result",
          "data": {
            "text/plain": [
              "20"
            ]
          },
          "metadata": {},
          "execution_count": 88
        }
      ]
    },
    {
      "cell_type": "code",
      "source": [
        "top_n_genre = 5\n",
        "genre_ratings.show(top_n_genre)"
      ],
      "metadata": {
        "colab": {
          "base_uri": "https://localhost:8080/"
        },
        "id": "bNjxqR_TyuHV",
        "outputId": "ccc121e1-83e7-40d6-e3f1-9b7e3772a469"
      },
      "execution_count": 87,
      "outputs": [
        {
          "output_type": "stream",
          "name": "stdout",
          "text": [
            "+------------------+------------------+\n",
            "|             Genre|        Avg_Rating|\n",
            "+------------------+------------------+\n",
            "|         Film-Noir|3.7118715983793593|\n",
            "|(no genres listed)| 3.642857142857143|\n",
            "|       Documentary|3.4621763397993477|\n",
            "|               War| 3.454612791239219|\n",
            "|             Drama|3.3498928844848557|\n",
            "+------------------+------------------+\n",
            "only showing top 5 rows\n",
            "\n"
          ]
        }
      ]
    },
    {
      "cell_type": "markdown",
      "source": [
        "**(Q3) How many movies have been ranked the most consecutive days?**"
      ],
      "metadata": {
        "id": "gILJkeaNOEuI"
      }
    },
    {
      "cell_type": "code",
      "source": [
        "movie_rating_date = rating_df.select([\"MovieID\",\"date\"]).drop_duplicates()\n",
        "movie_rating_date.show(10)\n",
        "movie_rating_date.count()"
      ],
      "metadata": {
        "colab": {
          "base_uri": "https://localhost:8080/"
        },
        "id": "W65JNMJ_OC-L",
        "outputId": "e80b6674-c5bc-4973-d44a-a24f4c92f428"
      },
      "execution_count": 60,
      "outputs": [
        {
          "output_type": "stream",
          "name": "stdout",
          "text": [
            "+-------+----------+\n",
            "|MovieID|      date|\n",
            "+-------+----------+\n",
            "|    589|1996-08-02|\n",
            "|   1212|2003-04-11|\n",
            "|    208|2005-05-20|\n",
            "|    288|2005-03-23|\n",
            "|   1080|2005-05-12|\n",
            "|   1396|2005-03-24|\n",
            "|   2948|2005-05-12|\n",
            "|   2997|2005-03-24|\n",
            "|   3452|2005-03-24|\n",
            "|   5810|2005-05-12|\n",
            "+-------+----------+\n",
            "only showing top 10 rows\n",
            "\n"
          ]
        },
        {
          "output_type": "execute_result",
          "data": {
            "text/plain": [
              "4574509"
            ]
          },
          "metadata": {},
          "execution_count": 60
        }
      ]
    },
    {
      "cell_type": "code",
      "source": [
        "winspec = Window.partitionBy(\"MovieID\").orderBy(\"date\")\n",
        "movie_rating_date = movie_rating_date.withColumn(\"date_diff\",\n",
        "    datediff(\"date\", lag(\"date\", 1).over(winspec)))\n",
        "movie_rating_date = movie_rating_date.withColumn(\"winID\",\n",
        "    sum(when(col(\"date_diff\") != 1, 1).otherwise(0)).over(\n",
        "        winspec.rowsBetween(Window.unboundedPreceding, 0)))\n",
        "movie_rating_date.show(10)"
      ],
      "metadata": {
        "colab": {
          "base_uri": "https://localhost:8080/"
        },
        "id": "gW2WS-YUZ3CD",
        "outputId": "16339c7c-ea13-429c-eba0-e4bd7cbaa20c"
      },
      "execution_count": 62,
      "outputs": [
        {
          "output_type": "stream",
          "name": "stdout",
          "text": [
            "+-------+----------+---------+-----+\n",
            "|MovieID|      date|date_diff|winID|\n",
            "+-------+----------+---------+-----+\n",
            "|      1|1996-01-29|     NULL|    0|\n",
            "|      1|1996-02-01|        3|    1|\n",
            "|      1|1996-02-02|        1|    1|\n",
            "|      1|1996-02-05|        3|    2|\n",
            "|      1|1996-02-12|        7|    3|\n",
            "|      1|1996-02-22|       10|    4|\n",
            "|      1|1996-02-23|        1|    4|\n",
            "|      1|1996-02-26|        3|    5|\n",
            "|      1|1996-03-04|        7|    6|\n",
            "|      1|1996-03-05|        1|    6|\n",
            "+-------+----------+---------+-----+\n",
            "only showing top 10 rows\n",
            "\n"
          ]
        }
      ]
    },
    {
      "cell_type": "code",
      "source": [
        "movie_rated_days = movie_rating_date.groupBy(\"MovieID\", \"winID\").count()\n",
        "movie_rated_days = movie_rated_days.groupBy(\"MovieID\").agg(max(\"count\").alias(\"max_consecutive_days\"))\n",
        "movie_rated_days = movie_rated_days.orderBy(\"max_consecutive_days\", ascending=False)\n",
        "movie_rated_days.cache()\n",
        "movie_rated_days.show(10)"
      ],
      "metadata": {
        "colab": {
          "base_uri": "https://localhost:8080/"
        },
        "id": "X_Ds-kCGgiGq",
        "outputId": "04e153df-39f9-4022-e2dd-e8fccbfb9e4a"
      },
      "execution_count": 67,
      "outputs": [
        {
          "output_type": "stream",
          "name": "stdout",
          "text": [
            "+-------+--------------------+\n",
            "|MovieID|max_consecutive_days|\n",
            "+-------+--------------------+\n",
            "|   5952|                 622|\n",
            "|   2858|                 485|\n",
            "|   4993|                 483|\n",
            "|    356|                 425|\n",
            "|   6377|                 425|\n",
            "|   2571|                 364|\n",
            "|   2762|                 362|\n",
            "|   1270|                 327|\n",
            "|    593|                 317|\n",
            "|   3578|                 307|\n",
            "+-------+--------------------+\n",
            "only showing top 10 rows\n",
            "\n"
          ]
        }
      ]
    }
  ]
}